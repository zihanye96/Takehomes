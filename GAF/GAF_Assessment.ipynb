{
 "cells": [
  {
   "cell_type": "markdown",
   "metadata": {},
   "source": [
    "# GAF Take-Home Assessment"
   ]
  },
  {
   "cell_type": "markdown",
   "metadata": {},
   "source": [
    "## Data Gathering & Exploratory Analysis\n",
    "\n",
    "To get the data from Google Trends, I will use the Google Trends API to get weekly data for interest in \"roof near me\", and then aggregate by month and average the weekly interest scores to represent the monthly interest."
   ]
  },
  {
   "cell_type": "code",
   "execution_count": 1,
   "metadata": {},
   "outputs": [],
   "source": [
    "## import required packages\n",
    "import pandas as pd\n",
    "import numpy as np\n",
    "import datetime\n",
    "import matplotlib.pyplot as plt\n",
    "import seaborn as sns\n",
    "from pytrends.request import TrendReq\n",
    "\n",
    "from sklearn.linear_model import LinearRegression\n",
    "from sklearn.ensemble import RandomForestRegressor\n",
    "from sklearn.ensemble import GradientBoostingRegressor\n",
    "from sklearn.model_selection import GridSearchCV\n",
    "from sklearn.model_selection import train_test_split"
   ]
  },
  {
   "cell_type": "code",
   "execution_count": 2,
   "metadata": {},
   "outputs": [
    {
     "data": {
      "text/html": [
       "<div>\n",
       "<style scoped>\n",
       "    .dataframe tbody tr th:only-of-type {\n",
       "        vertical-align: middle;\n",
       "    }\n",
       "\n",
       "    .dataframe tbody tr th {\n",
       "        vertical-align: top;\n",
       "    }\n",
       "\n",
       "    .dataframe thead th {\n",
       "        text-align: right;\n",
       "    }\n",
       "</style>\n",
       "<table border=\"1\" class=\"dataframe\">\n",
       "  <thead>\n",
       "    <tr style=\"text-align: right;\">\n",
       "      <th></th>\n",
       "      <th>date</th>\n",
       "      <th>roof near me</th>\n",
       "      <th>isPartial</th>\n",
       "    </tr>\n",
       "  </thead>\n",
       "  <tbody>\n",
       "    <tr>\n",
       "      <td>251</td>\n",
       "      <td>2020-08-30</td>\n",
       "      <td>86</td>\n",
       "      <td>False</td>\n",
       "    </tr>\n",
       "    <tr>\n",
       "      <td>252</td>\n",
       "      <td>2020-09-06</td>\n",
       "      <td>84</td>\n",
       "      <td>False</td>\n",
       "    </tr>\n",
       "    <tr>\n",
       "      <td>253</td>\n",
       "      <td>2020-09-13</td>\n",
       "      <td>84</td>\n",
       "      <td>False</td>\n",
       "    </tr>\n",
       "    <tr>\n",
       "      <td>254</td>\n",
       "      <td>2020-09-20</td>\n",
       "      <td>80</td>\n",
       "      <td>False</td>\n",
       "    </tr>\n",
       "    <tr>\n",
       "      <td>255</td>\n",
       "      <td>2020-09-27</td>\n",
       "      <td>80</td>\n",
       "      <td>False</td>\n",
       "    </tr>\n",
       "    <tr>\n",
       "      <td>256</td>\n",
       "      <td>2020-10-04</td>\n",
       "      <td>86</td>\n",
       "      <td>False</td>\n",
       "    </tr>\n",
       "    <tr>\n",
       "      <td>257</td>\n",
       "      <td>2020-10-11</td>\n",
       "      <td>79</td>\n",
       "      <td>False</td>\n",
       "    </tr>\n",
       "    <tr>\n",
       "      <td>258</td>\n",
       "      <td>2020-10-18</td>\n",
       "      <td>81</td>\n",
       "      <td>False</td>\n",
       "    </tr>\n",
       "    <tr>\n",
       "      <td>259</td>\n",
       "      <td>2020-10-25</td>\n",
       "      <td>76</td>\n",
       "      <td>False</td>\n",
       "    </tr>\n",
       "    <tr>\n",
       "      <td>260</td>\n",
       "      <td>2020-11-01</td>\n",
       "      <td>81</td>\n",
       "      <td>True</td>\n",
       "    </tr>\n",
       "  </tbody>\n",
       "</table>\n",
       "</div>"
      ],
      "text/plain": [
       "          date  roof near me isPartial\n",
       "251 2020-08-30            86     False\n",
       "252 2020-09-06            84     False\n",
       "253 2020-09-13            84     False\n",
       "254 2020-09-20            80     False\n",
       "255 2020-09-27            80     False\n",
       "256 2020-10-04            86     False\n",
       "257 2020-10-11            79     False\n",
       "258 2020-10-18            81     False\n",
       "259 2020-10-25            76     False\n",
       "260 2020-11-01            81      True"
      ]
     },
     "execution_count": 2,
     "metadata": {},
     "output_type": "execute_result"
    }
   ],
   "source": [
    "## load the dataset using Google Trends API\n",
    "pytrend = TrendReq()\n",
    "pytrend.build_payload(kw_list=['roof near me'])\n",
    "df = pytrend.interest_over_time().reset_index()\n",
    "df.tail(10)"
   ]
  },
  {
   "cell_type": "code",
   "execution_count": 3,
   "metadata": {},
   "outputs": [
    {
     "data": {
      "text/plain": [
       "date            datetime64[ns]\n",
       "roof near me             int64\n",
       "isPartial               object\n",
       "dtype: object"
      ]
     },
     "execution_count": 3,
     "metadata": {},
     "output_type": "execute_result"
    }
   ],
   "source": [
    "## check data types\n",
    "df.dtypes"
   ]
  },
  {
   "cell_type": "code",
   "execution_count": 4,
   "metadata": {},
   "outputs": [
    {
     "data": {
      "text/plain": [
       "1"
      ]
     },
     "execution_count": 4,
     "metadata": {},
     "output_type": "execute_result"
    }
   ],
   "source": [
    "## isPartial means the interest score is estimated. Should only be true for the most recent week.\n",
    "sum(df[\"isPartial\"] == \"True\")"
   ]
  },
  {
   "cell_type": "code",
   "execution_count": 5,
   "metadata": {
    "scrolled": true
   },
   "outputs": [
    {
     "data": {
      "text/html": [
       "<div>\n",
       "<style scoped>\n",
       "    .dataframe tbody tr th:only-of-type {\n",
       "        vertical-align: middle;\n",
       "    }\n",
       "\n",
       "    .dataframe tbody tr th {\n",
       "        vertical-align: top;\n",
       "    }\n",
       "\n",
       "    .dataframe thead tr th {\n",
       "        text-align: left;\n",
       "    }\n",
       "\n",
       "    .dataframe thead tr:last-of-type th {\n",
       "        text-align: right;\n",
       "    }\n",
       "</style>\n",
       "<table border=\"1\" class=\"dataframe\">\n",
       "  <thead>\n",
       "    <tr>\n",
       "      <th></th>\n",
       "      <th colspan=\"2\" halign=\"left\">roof near me</th>\n",
       "    </tr>\n",
       "    <tr>\n",
       "      <th></th>\n",
       "      <th>mean</th>\n",
       "      <th>std</th>\n",
       "    </tr>\n",
       "    <tr>\n",
       "      <th>year</th>\n",
       "      <th></th>\n",
       "      <th></th>\n",
       "    </tr>\n",
       "  </thead>\n",
       "  <tbody>\n",
       "    <tr>\n",
       "      <td>2015</td>\n",
       "      <td>9.750000</td>\n",
       "      <td>2.712405</td>\n",
       "    </tr>\n",
       "    <tr>\n",
       "      <td>2016</td>\n",
       "      <td>18.307692</td>\n",
       "      <td>5.054753</td>\n",
       "    </tr>\n",
       "    <tr>\n",
       "      <td>2017</td>\n",
       "      <td>30.849057</td>\n",
       "      <td>7.072145</td>\n",
       "    </tr>\n",
       "    <tr>\n",
       "      <td>2018</td>\n",
       "      <td>43.096154</td>\n",
       "      <td>8.146356</td>\n",
       "    </tr>\n",
       "    <tr>\n",
       "      <td>2019</td>\n",
       "      <td>56.730769</td>\n",
       "      <td>9.824171</td>\n",
       "    </tr>\n",
       "    <tr>\n",
       "      <td>2020</td>\n",
       "      <td>71.795455</td>\n",
       "      <td>16.109479</td>\n",
       "    </tr>\n",
       "  </tbody>\n",
       "</table>\n",
       "</div>"
      ],
      "text/plain": [
       "     roof near me           \n",
       "             mean        std\n",
       "year                        \n",
       "2015     9.750000   2.712405\n",
       "2016    18.307692   5.054753\n",
       "2017    30.849057   7.072145\n",
       "2018    43.096154   8.146356\n",
       "2019    56.730769   9.824171\n",
       "2020    71.795455  16.109479"
      ]
     },
     "execution_count": 5,
     "metadata": {},
     "output_type": "execute_result"
    }
   ],
   "source": [
    "## create new features for year and month\n",
    "df[\"year\"] = df[\"date\"].apply(lambda x: x.year)\n",
    "df[\"month\"] = df[\"date\"].apply(lambda x: x.month)\n",
    "\n",
    "## get yearly average interest score and standard deviation\n",
    "df.groupby(\"year\").agg({'roof near me': [np.mean, np.std]})"
   ]
  },
  {
   "cell_type": "code",
   "execution_count": 6,
   "metadata": {},
   "outputs": [
    {
     "data": {
      "text/html": [
       "<div>\n",
       "<style scoped>\n",
       "    .dataframe tbody tr th:only-of-type {\n",
       "        vertical-align: middle;\n",
       "    }\n",
       "\n",
       "    .dataframe tbody tr th {\n",
       "        vertical-align: top;\n",
       "    }\n",
       "\n",
       "    .dataframe thead th {\n",
       "        text-align: right;\n",
       "    }\n",
       "</style>\n",
       "<table border=\"1\" class=\"dataframe\">\n",
       "  <thead>\n",
       "    <tr style=\"text-align: right;\">\n",
       "      <th></th>\n",
       "      <th>roof near me</th>\n",
       "    </tr>\n",
       "    <tr>\n",
       "      <th>month</th>\n",
       "      <th></th>\n",
       "    </tr>\n",
       "  </thead>\n",
       "  <tbody>\n",
       "    <tr>\n",
       "      <td>7</td>\n",
       "      <td>54.130435</td>\n",
       "    </tr>\n",
       "    <tr>\n",
       "      <td>8</td>\n",
       "      <td>53.571429</td>\n",
       "    </tr>\n",
       "    <tr>\n",
       "      <td>6</td>\n",
       "      <td>53.285714</td>\n",
       "    </tr>\n",
       "    <tr>\n",
       "      <td>9</td>\n",
       "      <td>50.500000</td>\n",
       "    </tr>\n",
       "    <tr>\n",
       "      <td>5</td>\n",
       "      <td>45.090909</td>\n",
       "    </tr>\n",
       "    <tr>\n",
       "      <td>10</td>\n",
       "      <td>45.045455</td>\n",
       "    </tr>\n",
       "    <tr>\n",
       "      <td>4</td>\n",
       "      <td>39.590909</td>\n",
       "    </tr>\n",
       "    <tr>\n",
       "      <td>3</td>\n",
       "      <td>37.681818</td>\n",
       "    </tr>\n",
       "    <tr>\n",
       "      <td>2</td>\n",
       "      <td>35.100000</td>\n",
       "    </tr>\n",
       "    <tr>\n",
       "      <td>12</td>\n",
       "      <td>32.391304</td>\n",
       "    </tr>\n",
       "    <tr>\n",
       "      <td>11</td>\n",
       "      <td>31.285714</td>\n",
       "    </tr>\n",
       "    <tr>\n",
       "      <td>1</td>\n",
       "      <td>28.545455</td>\n",
       "    </tr>\n",
       "  </tbody>\n",
       "</table>\n",
       "</div>"
      ],
      "text/plain": [
       "       roof near me\n",
       "month              \n",
       "7         54.130435\n",
       "8         53.571429\n",
       "6         53.285714\n",
       "9         50.500000\n",
       "5         45.090909\n",
       "10        45.045455\n",
       "4         39.590909\n",
       "3         37.681818\n",
       "2         35.100000\n",
       "12        32.391304\n",
       "11        31.285714\n",
       "1         28.545455"
      ]
     },
     "execution_count": 6,
     "metadata": {},
     "output_type": "execute_result"
    }
   ],
   "source": [
    "## find months with highest average interest scores\n",
    "\n",
    "df.groupby([\"month\"]).agg({'roof near me': np.mean}).sort_values(by='roof near me', ascending=False)"
   ]
  },
  {
   "cell_type": "markdown",
   "metadata": {},
   "source": [
    "### Initial Findings\n",
    "\n",
    "Here are some initial findings about the dataset:\n",
    "\n",
    "1. The feature \"isPartial\" indicates whether or not the interest score is an estimate, and is only \"True\" for the current week, since it hasn't ended yet. As this is a low-variance feature, we don't need it for modeling as it's not very informative.  \n",
    "<br />\n",
    "2. The yearly interest score for \"roof near me\" has strictly increased over the last 5 years.   \n",
    "<br />\n",
    "3. The variance in weekly interest score also strictly increased over the last 5 years.  \n",
    "<br />\n",
    "4. On average, the months with the highest interest scores are the months between May and October.\n",
    "\n",
    "One important caveat is that for the year 2015, we only have information for November and December, so the mean and variance for 2015 should be taken with a grain of salt. That being said, the overall trend of increasing mean and variance holds true for 2016-2020."
   ]
  },
  {
   "cell_type": "markdown",
   "metadata": {},
   "source": [
    "## Feature Engineering\n",
    "\n",
    "First, I will group the dataset by year and month, and then generate the following features to improve model performance:  \n",
    "\n",
    "1. during_pandemic: a binary categorical variable indicating whether or not there was a global pandemic during the time period. This is useful because the trends reveal a clear spike in interest starting around the week of 3/22, which is around the time the lockdowns started in the US.  \n",
    "<br />\n",
    "2. season: a categorical variable indicating which season the time period falls in. Factoring seasonality may improve model performance if interest in roofs follows a seasonal trend (ex. higher during warmer seasons).  \n",
    "<br />\n",
    "3. may_to_oct: since the months between May and October were the months had notably higher interest scores, it's worth giving that month range its own indicator variable."
   ]
  },
  {
   "cell_type": "code",
   "execution_count": 7,
   "metadata": {},
   "outputs": [],
   "source": [
    "## drop isPartial, since it's \"False\" for all but one observation\n",
    "df.drop([\"isPartial\"], axis=1, inplace=True)\n",
    "\n",
    "## group data by month and year\n",
    "monthly_data = df.groupby([\"year\", \"month\"]).agg({'roof near me': np.mean}).reset_index()"
   ]
  },
  {
   "cell_type": "code",
   "execution_count": 8,
   "metadata": {},
   "outputs": [],
   "source": [
    "## create indicator for pandemic (starting March 2020)\n",
    "def during_pandemic(year, month):\n",
    "    if year == 2020 and month >=3:\n",
    "        return(1)\n",
    "    else:\n",
    "        return(0)\n",
    "\n",
    "monthly_data[\"during_pandemic\"] = monthly_data.apply(lambda x: during_pandemic(x[\"year\"], x[\"month\"]), axis=1)"
   ]
  },
  {
   "cell_type": "code",
   "execution_count": 9,
   "metadata": {},
   "outputs": [],
   "source": [
    "## create feature for seasons\n",
    "def get_season(month):\n",
    "    if month in range(3,6):\n",
    "        return(\"spring\")\n",
    "    elif month in range(6,9):\n",
    "        return(\"summer\")\n",
    "    elif month in range(9,12):\n",
    "        return(\"fall\")\n",
    "    else:\n",
    "        return(\"winter\")\n",
    "\n",
    "monthly_data[\"season\"] = monthly_data[\"month\"].apply(lambda x: get_season(x))"
   ]
  },
  {
   "cell_type": "code",
   "execution_count": 10,
   "metadata": {},
   "outputs": [],
   "source": [
    "## create indicator for whether month was between May and October\n",
    "def may_to_oct(month):\n",
    "    if month in range(5,11):\n",
    "        return(1)\n",
    "    else:\n",
    "        return(0)\n",
    "\n",
    "monthly_data[\"may_to_oct\"] = monthly_data[\"month\"].apply(lambda x: may_to_oct(x))"
   ]
  },
  {
   "cell_type": "markdown",
   "metadata": {},
   "source": [
    "One important set of variables that I chose not to represent is weather (rain/sunny, temperature, etc). Since we're trying to forecast interest scores for the next 12 months, we would need to accurately predict weather for the next 12 months if we want to include it in our model, which is challenging given that even meterologists can't forecast that far into the future. That being said, I think it's safe to assume that the variables corresponding to \"weather\" can be cyclical in the long run and can be represented by season, so we can use season as a proxy for weather.\n",
    "\n",
    "I also considered adding lag-based features, but decided against it given that we only have 60 data points, so adding lag features would mean introducing missing values to the dataset (with a lag of 6, 10% of our dataset would have missing values)."
   ]
  },
  {
   "cell_type": "code",
   "execution_count": 11,
   "metadata": {},
   "outputs": [
    {
     "data": {
      "text/html": [
       "<div>\n",
       "<style scoped>\n",
       "    .dataframe tbody tr th:only-of-type {\n",
       "        vertical-align: middle;\n",
       "    }\n",
       "\n",
       "    .dataframe tbody tr th {\n",
       "        vertical-align: top;\n",
       "    }\n",
       "\n",
       "    .dataframe thead th {\n",
       "        text-align: right;\n",
       "    }\n",
       "</style>\n",
       "<table border=\"1\" class=\"dataframe\">\n",
       "  <thead>\n",
       "    <tr style=\"text-align: right;\">\n",
       "      <th></th>\n",
       "      <th>year</th>\n",
       "      <th>month</th>\n",
       "      <th>interest_score</th>\n",
       "      <th>during_pandemic</th>\n",
       "      <th>season</th>\n",
       "      <th>may_to_oct</th>\n",
       "    </tr>\n",
       "  </thead>\n",
       "  <tbody>\n",
       "    <tr>\n",
       "      <td>51</td>\n",
       "      <td>2020</td>\n",
       "      <td>2</td>\n",
       "      <td>60.25</td>\n",
       "      <td>0</td>\n",
       "      <td>winter</td>\n",
       "      <td>0</td>\n",
       "    </tr>\n",
       "    <tr>\n",
       "      <td>52</td>\n",
       "      <td>2020</td>\n",
       "      <td>3</td>\n",
       "      <td>49.80</td>\n",
       "      <td>1</td>\n",
       "      <td>spring</td>\n",
       "      <td>0</td>\n",
       "    </tr>\n",
       "    <tr>\n",
       "      <td>53</td>\n",
       "      <td>2020</td>\n",
       "      <td>4</td>\n",
       "      <td>53.00</td>\n",
       "      <td>1</td>\n",
       "      <td>spring</td>\n",
       "      <td>0</td>\n",
       "    </tr>\n",
       "    <tr>\n",
       "      <td>54</td>\n",
       "      <td>2020</td>\n",
       "      <td>5</td>\n",
       "      <td>72.20</td>\n",
       "      <td>1</td>\n",
       "      <td>spring</td>\n",
       "      <td>1</td>\n",
       "    </tr>\n",
       "    <tr>\n",
       "      <td>55</td>\n",
       "      <td>2020</td>\n",
       "      <td>6</td>\n",
       "      <td>89.00</td>\n",
       "      <td>1</td>\n",
       "      <td>summer</td>\n",
       "      <td>1</td>\n",
       "    </tr>\n",
       "    <tr>\n",
       "      <td>56</td>\n",
       "      <td>2020</td>\n",
       "      <td>7</td>\n",
       "      <td>90.25</td>\n",
       "      <td>1</td>\n",
       "      <td>summer</td>\n",
       "      <td>1</td>\n",
       "    </tr>\n",
       "    <tr>\n",
       "      <td>57</td>\n",
       "      <td>2020</td>\n",
       "      <td>8</td>\n",
       "      <td>86.00</td>\n",
       "      <td>1</td>\n",
       "      <td>summer</td>\n",
       "      <td>1</td>\n",
       "    </tr>\n",
       "    <tr>\n",
       "      <td>58</td>\n",
       "      <td>2020</td>\n",
       "      <td>9</td>\n",
       "      <td>82.00</td>\n",
       "      <td>1</td>\n",
       "      <td>fall</td>\n",
       "      <td>1</td>\n",
       "    </tr>\n",
       "    <tr>\n",
       "      <td>59</td>\n",
       "      <td>2020</td>\n",
       "      <td>10</td>\n",
       "      <td>80.50</td>\n",
       "      <td>1</td>\n",
       "      <td>fall</td>\n",
       "      <td>1</td>\n",
       "    </tr>\n",
       "    <tr>\n",
       "      <td>60</td>\n",
       "      <td>2020</td>\n",
       "      <td>11</td>\n",
       "      <td>81.00</td>\n",
       "      <td>1</td>\n",
       "      <td>fall</td>\n",
       "      <td>0</td>\n",
       "    </tr>\n",
       "  </tbody>\n",
       "</table>\n",
       "</div>"
      ],
      "text/plain": [
       "    year  month  interest_score  during_pandemic  season  may_to_oct\n",
       "51  2020      2           60.25                0  winter           0\n",
       "52  2020      3           49.80                1  spring           0\n",
       "53  2020      4           53.00                1  spring           0\n",
       "54  2020      5           72.20                1  spring           1\n",
       "55  2020      6           89.00                1  summer           1\n",
       "56  2020      7           90.25                1  summer           1\n",
       "57  2020      8           86.00                1  summer           1\n",
       "58  2020      9           82.00                1    fall           1\n",
       "59  2020     10           80.50                1    fall           1\n",
       "60  2020     11           81.00                1    fall           0"
      ]
     },
     "execution_count": 11,
     "metadata": {},
     "output_type": "execute_result"
    }
   ],
   "source": [
    "## rename the target variable\n",
    "monthly_data.rename(columns={'roof near me': 'interest_score'}, inplace=True)\n",
    "\n",
    "## preview the df\n",
    "monthly_data.tail(10)"
   ]
  },
  {
   "cell_type": "code",
   "execution_count": 12,
   "metadata": {},
   "outputs": [
    {
     "data": {
      "text/plain": [
       "Text(0.5, 0, 'Month Index')"
      ]
     },
     "execution_count": 12,
     "metadata": {},
     "output_type": "execute_result"
    },
    {
     "data": {
      "image/png": "[encoded data removed]",
      "text/plain": [
       "<Figure size 1080x288 with 1 Axes>"
      ]
     },
     "metadata": {},
     "output_type": "display_data"
    }
   ],
   "source": [
    "plt.style.use('ggplot')\n",
    "monthly_data[\"interest_score\"].plot(figsize=(15,4))\n",
    "plt.title(\"Interest Score from 2015-2020\")\n",
    "plt.ylabel(\"Interest Score\")\n",
    "plt.xlabel(\"Month Index\")"
   ]
  },
  {
   "cell_type": "markdown",
   "metadata": {},
   "source": [
    "## Model Fitting\n",
    "\n",
    "Typically, I would use a traditional time series model (ARMA, ARIMA, SARIMA, etc.) or a sliding window (e.g. use the previous 5 observations to predict the next). However, since we just created features that attempt to pick up aspects of the trend in interest scores, it's reasonable to use traditional machine learning algorithms to learn the pattern and try to predict the future. So, I will fit the following models to forecast future interest scores: Linear Regression (OLS), random forest, Gradient Boosting Machine (GBM). These three are commonly used models for regression problems and have different degrees of complexity. With the OLS and random forest models, we can get a sense of feature importance, while GBM's tend to perform well in prediction problems.\n",
    "\n",
    "To evaluate model performance, I will split the dataset into a training set (75% of data) and test set (25% of data), fit the models on the training set, and compare how each model performed on the test set using RMSE. RMSE gives a relatively higher weight to large errors compared to MAE (another commonly used metric for regression problems), which is good since we prefer to avoid large errors. \n",
    "\n",
    "For the random forest and GBM models, I will use 5-fold cross validation across the parameter space to tune the models."
   ]
  },
  {
   "cell_type": "code",
   "execution_count": 13,
   "metadata": {},
   "outputs": [],
   "source": [
    "## create dummy variables\n",
    "dummy_vars = pd.get_dummies(monthly_data.loc[:,\"season\"], prefix= \"season\", prefix_sep='_')\n",
    "X = pd.concat([monthly_data.drop([\"season\", \"interest_score\"], axis=1), dummy_vars], axis = 1)\n",
    "Y = monthly_data[\"interest_score\"]\n",
    "\n",
    "## split data into test and training sets\n",
    "X_train, X_test, Y_train, Y_test = train_test_split(X, Y, test_size=0.25, random_state=100)\n",
    "\n",
    "## function to compute the rmse\n",
    "def compute_rmse(predictions, yvalues):\n",
    "    return np.sqrt(sum((np.array(predictions)-np.array(yvalues))**2)/len(yvalues))"
   ]
  },
  {
   "cell_type": "code",
   "execution_count": 14,
   "metadata": {},
   "outputs": [
    {
     "name": "stdout",
     "output_type": "stream",
     "text": [
      "RMSE for OLS: 8.613624593367188\n"
     ]
    }
   ],
   "source": [
    "## OLS model\n",
    "\n",
    "OLS = LinearRegression()\n",
    "OLS.fit(X_train, Y_train)\n",
    "ols_preds = OLS.predict(X_test)\n",
    "print(f\"RMSE for OLS: {compute_rmse(ols_preds, Y_test)}\")"
   ]
  },
  {
   "cell_type": "code",
   "execution_count": 15,
   "metadata": {},
   "outputs": [
    {
     "name": "stdout",
     "output_type": "stream",
     "text": [
      "{'n_estimators': 300}\n",
      "-68.13492108950598\n"
     ]
    }
   ],
   "source": [
    "## random forest model\n",
    "\n",
    "## initialize the model and parameter space and find optimal hyperparameters\n",
    "rf_model = RandomForestRegressor(random_state = 100, max_features = 'sqrt')\n",
    "parameters = {'n_estimators': np.arange(30, 301, 30)}\n",
    "\n",
    "rf_gridcv = GridSearchCV(estimator = rf_model, param_grid = parameters, cv = 5, scoring = 'neg_mean_squared_error')\n",
    "rf_gridcv.fit(X_train, Y_train)\n",
    "print(rf_gridcv.best_params_)\n",
    "print(rf_gridcv.best_score_)"
   ]
  },
  {
   "cell_type": "code",
   "execution_count": 16,
   "metadata": {},
   "outputs": [
    {
     "name": "stdout",
     "output_type": "stream",
     "text": [
      "RMSE for Random Forest: 8.205166309506879\n"
     ]
    }
   ],
   "source": [
    "mod = RandomForestRegressor(n_estimators = 30, random_state = 100)\n",
    "mod.fit(X_train, Y_train)\n",
    "rf_preds = mod.predict(X_test)\n",
    "print(f\"RMSE for Random Forest: {compute_rmse(rf_preds, Y_test)}\")"
   ]
  },
  {
   "cell_type": "code",
   "execution_count": 17,
   "metadata": {},
   "outputs": [
    {
     "name": "stdout",
     "output_type": "stream",
     "text": [
      "{'learning_rate': 0.1, 'n_estimators': 100}\n",
      "-31.9564296720632\n"
     ]
    }
   ],
   "source": [
    "## GBM model\n",
    "\n",
    "## intialize parameter space and find optimal hyperparameters\n",
    "rates = [.01, .1, .25, .5, .75, 1]\n",
    "ntrees = [x for x in np.arange(100, 501, 100)]\n",
    "\n",
    "gb_model = GradientBoostingRegressor(random_state = 100)\n",
    "parameters = {'learning_rate': rates,\n",
    "              'n_estimators': ntrees}\n",
    "\n",
    "\n",
    "gbm_gridcv = GridSearchCV(estimator = gb_model, param_grid = parameters, cv = 5, scoring = 'neg_mean_squared_error')\n",
    "\n",
    "gbm_gridcv.fit(X_train, Y_train)\n",
    "\n",
    "print(gbm_gridcv.best_params_)\n",
    "print(gbm_gridcv.best_score_)"
   ]
  },
  {
   "cell_type": "code",
   "execution_count": 18,
   "metadata": {},
   "outputs": [
    {
     "name": "stdout",
     "output_type": "stream",
     "text": [
      "RMSE for GBM: 7.388339983438476\n"
     ]
    }
   ],
   "source": [
    "gb_model = GradientBoostingRegressor(learning_rate = .1, n_estimators = 100, random_state = 100)\n",
    "gb_model.fit(X_train, Y_train)\n",
    "gbm_preds = gb_model.predict(X_test)\n",
    "print(f\"RMSE for GBM: {compute_rmse(gbm_preds, Y_test)}\")"
   ]
  },
  {
   "cell_type": "markdown",
   "metadata": {},
   "source": [
    "## Model Evaluation and Prediction\n",
    "\n",
    "Here is how the models performed, using RMSE as the metric:\n",
    "\n",
    "1. Linear Regression: 8.61\n",
    "2. Random Forest: 8.21\n",
    "3. Gradient Boosting Machine: 7.39\n",
    "\n",
    "\n",
    "So, I will use the GBM model, which had a RMSE of 7.39, to predict \"roof near me\" interest scores for the next 12 months."
   ]
  },
  {
   "cell_type": "code",
   "execution_count": 19,
   "metadata": {},
   "outputs": [],
   "source": [
    "## generate data frame for next 12 months\n",
    "year = [2020] + [2021]*11\n",
    "month = [12] + [x for x in range(1,12)]\n",
    "pandemic = [1]*12\n",
    "season = [\"winter\"]*3 + [\"spring\"]*3 + [\"summer\"]*3 + [\"fall\"]*3\n",
    "\n",
    "mapping = {\"year\": year, \"month\": month, \"during_pandemic\": pandemic, \"season\": season}\n",
    "next_year = pd.DataFrame(data = mapping)\n",
    "next_year[\"may_to_oct\"] = next_year[\"month\"].apply(lambda x: may_to_oct(x))\n",
    "\n",
    "dummy_vars = pd.get_dummies(next_year.loc[:,\"season\"], prefix= \"season\", prefix_sep='_')\n",
    "next_year = pd.concat([next_year.drop([\"season\"], axis=1), dummy_vars], axis = 1)"
   ]
  },
  {
   "cell_type": "code",
   "execution_count": 20,
   "metadata": {},
   "outputs": [
    {
     "data": {
      "text/plain": [
       "Text(0.5, 0, 'Month Index')"
      ]
     },
     "execution_count": 20,
     "metadata": {},
     "output_type": "execute_result"
    },
    {
     "data": {
      "image/png": "[encoded data removed]",
      "text/plain": [
       "<Figure size 1080x288 with 1 Axes>"
      ]
     },
     "metadata": {},
     "output_type": "display_data"
    }
   ],
   "source": [
    "## make prediction for next 12 months\n",
    "predictions = gb_model.predict(next_year)\n",
    "\n",
    "pd.Series(predictions).plot(figsize=(15,4))\n",
    "plt.title(\"Predicted Interest Score for Next 12 Months\")\n",
    "plt.ylabel(\"Interest Score\")\n",
    "plt.xlabel(\"Month Index\")"
   ]
  },
  {
   "cell_type": "code",
   "execution_count": 21,
   "metadata": {
    "scrolled": true
   },
   "outputs": [
    {
     "data": {
      "text/html": [
       "<div>\n",
       "<style scoped>\n",
       "    .dataframe tbody tr th:only-of-type {\n",
       "        vertical-align: middle;\n",
       "    }\n",
       "\n",
       "    .dataframe tbody tr th {\n",
       "        vertical-align: top;\n",
       "    }\n",
       "\n",
       "    .dataframe thead th {\n",
       "        text-align: right;\n",
       "    }\n",
       "</style>\n",
       "<table border=\"1\" class=\"dataframe\">\n",
       "  <thead>\n",
       "    <tr style=\"text-align: right;\">\n",
       "      <th></th>\n",
       "      <th>year</th>\n",
       "      <th>month</th>\n",
       "      <th>prediction</th>\n",
       "    </tr>\n",
       "  </thead>\n",
       "  <tbody>\n",
       "    <tr>\n",
       "      <td>0</td>\n",
       "      <td>2020</td>\n",
       "      <td>12</td>\n",
       "      <td>79.436652</td>\n",
       "    </tr>\n",
       "    <tr>\n",
       "      <td>1</td>\n",
       "      <td>2021</td>\n",
       "      <td>1</td>\n",
       "      <td>70.771492</td>\n",
       "    </tr>\n",
       "    <tr>\n",
       "      <td>2</td>\n",
       "      <td>2021</td>\n",
       "      <td>2</td>\n",
       "      <td>75.232229</td>\n",
       "    </tr>\n",
       "    <tr>\n",
       "      <td>3</td>\n",
       "      <td>2021</td>\n",
       "      <td>3</td>\n",
       "      <td>70.575873</td>\n",
       "    </tr>\n",
       "    <tr>\n",
       "      <td>4</td>\n",
       "      <td>2021</td>\n",
       "      <td>4</td>\n",
       "      <td>71.390019</td>\n",
       "    </tr>\n",
       "    <tr>\n",
       "      <td>5</td>\n",
       "      <td>2021</td>\n",
       "      <td>5</td>\n",
       "      <td>73.057479</td>\n",
       "    </tr>\n",
       "    <tr>\n",
       "      <td>6</td>\n",
       "      <td>2021</td>\n",
       "      <td>6</td>\n",
       "      <td>88.039568</td>\n",
       "    </tr>\n",
       "    <tr>\n",
       "      <td>7</td>\n",
       "      <td>2021</td>\n",
       "      <td>7</td>\n",
       "      <td>88.524808</td>\n",
       "    </tr>\n",
       "    <tr>\n",
       "      <td>8</td>\n",
       "      <td>2021</td>\n",
       "      <td>8</td>\n",
       "      <td>85.862441</td>\n",
       "    </tr>\n",
       "    <tr>\n",
       "      <td>9</td>\n",
       "      <td>2021</td>\n",
       "      <td>9</td>\n",
       "      <td>82.586747</td>\n",
       "    </tr>\n",
       "    <tr>\n",
       "      <td>10</td>\n",
       "      <td>2021</td>\n",
       "      <td>10</td>\n",
       "      <td>79.988047</td>\n",
       "    </tr>\n",
       "    <tr>\n",
       "      <td>11</td>\n",
       "      <td>2021</td>\n",
       "      <td>11</td>\n",
       "      <td>77.108781</td>\n",
       "    </tr>\n",
       "  </tbody>\n",
       "</table>\n",
       "</div>"
      ],
      "text/plain": [
       "    year  month  prediction\n",
       "0   2020     12   79.436652\n",
       "1   2021      1   70.771492\n",
       "2   2021      2   75.232229\n",
       "3   2021      3   70.575873\n",
       "4   2021      4   71.390019\n",
       "5   2021      5   73.057479\n",
       "6   2021      6   88.039568\n",
       "7   2021      7   88.524808\n",
       "8   2021      8   85.862441\n",
       "9   2021      9   82.586747\n",
       "10  2021     10   79.988047\n",
       "11  2021     11   77.108781"
      ]
     },
     "execution_count": 21,
     "metadata": {},
     "output_type": "execute_result"
    }
   ],
   "source": [
    "## output predictions\n",
    "pd.DataFrame(data = {\"year\": year, \"month\": month, \"prediction\": predictions})"
   ]
  },
  {
   "cell_type": "markdown",
   "metadata": {},
   "source": [
    "## Business Case Applications\n",
    "\n",
    "Here are a few departments that could find this model useful:\n",
    "\n",
    "1. Marketing/Sales: For a group of regions of interest (ex. New York, Dallas), re-fit the model for each region to find the months with the highest interest above a certain threshold (ex. interest score > 55). Then, the marketing department can target marketing campaigns to those regions during the months of highest interest, and the sales department can target customers in a similar manner.       \n",
    "<br />\n",
    "2. Supply chain: use the model to forecast demand for the near future to optimize supply chain performance. For example, if we know there's going to be significant demand in September 2021 but not much in November 2021, we can adjust supply of raw materials accordingly to minimize surplus.   \n",
    "<br />\n",
    "3. Customer Service: use the model to forecast interest, and restructure department such that the number of full-time customer service representatives is sufficient to cover inquiries during the months with normal forecasted interest, and hire temporary staff for the months with higher forecasted interest, saving costs in the long run.   \n",
    "<br />\n",
    "4. Logistics: Similar to customer service, we can use the forecasted interest to rent trucks and hire drivers based on demand, with a fleet of trucks and drivers large enough to cover demand during months with normal forecasted interest and hiring temporary staff and renting trucks for the months with higher forecasted demand.  \n"
   ]
  }
 ],
 "metadata": {
  "kernelspec": {
   "display_name": "Python 3",
   "language": "python",
   "name": "python3"
  },
  "language_info": {
   "codemirror_mode": {
    "name": "ipython",
    "version": 3
   },
   "file_extension": ".py",
   "mimetype": "text/x-python",
   "name": "python",
   "nbconvert_exporter": "python",
   "pygments_lexer": "ipython3",
   "version": "3.7.4"
  }
 },
 "nbformat": 4,
 "nbformat_minor": 2
}
