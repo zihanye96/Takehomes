{
 "cells": [
  {
   "cell_type": "markdown",
   "metadata": {},
   "source": [
    "# Gannett Modeling Challenge"
   ]
  },
  {
   "cell_type": "markdown",
   "metadata": {},
   "source": [
    "### Setting Up\n",
    "\n",
    "In this section, I will load the required modules and read in the data."
   ]
  },
  {
   "cell_type": "code",
   "execution_count": 1,
   "metadata": {},
   "outputs": [],
   "source": [
    "## import required packages\n",
    "import IPython\n",
    "import numpy as np\n",
    "import pandas as pd\n",
    "import matplotlib.pyplot as plt\n",
    "import seaborn as sns\n",
    "\n",
    "import category_encoders as ce\n",
    "from sklearn.impute import KNNImputer\n",
    "from sklearn.model_selection import train_test_split\n",
    "from sklearn import metrics\n",
    "from sklearn.metrics import accuracy_score\n",
    "from sklearn.metrics import recall_score\n",
    "from sklearn.metrics import precision_score\n",
    "from sklearn.model_selection import GridSearchCV\n",
    "\n",
    "from sklearn.tree import DecisionTreeClassifier\n",
    "from sklearn import svm\n",
    "from sklearn.linear_model import LogisticRegression\n",
    "from sklearn.ensemble import RandomForestClassifier\n",
    "from sklearn.ensemble import GradientBoostingClassifier"
   ]
  },
  {
   "cell_type": "code",
   "execution_count": 2,
   "metadata": {},
   "outputs": [
    {
     "data": {
      "text/plain": [
       "<function TextIOWrapper.close()>"
      ]
     },
     "execution_count": 2,
     "metadata": {},
     "output_type": "execute_result"
    }
   ],
   "source": [
    "## get column names for data frame\n",
    "headers = open(\"./assets/header.txt\",\"r+\") \n",
    "colnames = headers.read()\n",
    "columns = colnames.replace(\"\\n\", \" \").split(\", \")[:-1]\n",
    "headers.close"
   ]
  },
  {
   "cell_type": "code",
   "execution_count": 3,
   "metadata": {},
   "outputs": [
    {
     "data": {
      "text/html": [
       "<div>\n",
       "<style scoped>\n",
       "    .dataframe tbody tr th:only-of-type {\n",
       "        vertical-align: middle;\n",
       "    }\n",
       "\n",
       "    .dataframe tbody tr th {\n",
       "        vertical-align: top;\n",
       "    }\n",
       "\n",
       "    .dataframe thead th {\n",
       "        text-align: right;\n",
       "    }\n",
       "</style>\n",
       "<table border=\"1\" class=\"dataframe\">\n",
       "  <thead>\n",
       "    <tr style=\"text-align: right;\">\n",
       "      <th></th>\n",
       "      <th>CPL_wrt_BC</th>\n",
       "      <th>client_state</th>\n",
       "      <th>duration</th>\n",
       "      <th>num_prods</th>\n",
       "      <th>calls</th>\n",
       "      <th>CPL_wrt_self</th>\n",
       "      <th>churn</th>\n",
       "      <th>avg_budget</th>\n",
       "      <th>BC</th>\n",
       "      <th>clicks</th>\n",
       "    </tr>\n",
       "  </thead>\n",
       "  <tbody>\n",
       "    <tr>\n",
       "      <td>0</td>\n",
       "      <td>0.000000</td>\n",
       "      <td>AZ</td>\n",
       "      <td>73</td>\n",
       "      <td>6</td>\n",
       "      <td>2</td>\n",
       "      <td>NaN</td>\n",
       "      <td>1</td>\n",
       "      <td>10082.152554</td>\n",
       "      <td>Beauty &amp; Personal Care</td>\n",
       "      <td>107</td>\n",
       "    </tr>\n",
       "    <tr>\n",
       "      <td>1</td>\n",
       "      <td>-0.623618</td>\n",
       "      <td>CA</td>\n",
       "      <td>1</td>\n",
       "      <td>1</td>\n",
       "      <td>3</td>\n",
       "      <td>0.000000</td>\n",
       "      <td>0</td>\n",
       "      <td>133.928571</td>\n",
       "      <td>Shopping, Collectibles &amp; Gifts (General)</td>\n",
       "      <td>79</td>\n",
       "    </tr>\n",
       "    <tr>\n",
       "      <td>2</td>\n",
       "      <td>0.007905</td>\n",
       "      <td>NY</td>\n",
       "      <td>102</td>\n",
       "      <td>2</td>\n",
       "      <td>8</td>\n",
       "      <td>-0.292008</td>\n",
       "      <td>0</td>\n",
       "      <td>3935.017462</td>\n",
       "      <td>Personal Services (Weddings, Cleaners, etc.)</td>\n",
       "      <td>90</td>\n",
       "    </tr>\n",
       "    <tr>\n",
       "      <td>3</td>\n",
       "      <td>-0.104900</td>\n",
       "      <td>MN</td>\n",
       "      <td>6</td>\n",
       "      <td>1</td>\n",
       "      <td>5</td>\n",
       "      <td>0.587206</td>\n",
       "      <td>0</td>\n",
       "      <td>461.538462</td>\n",
       "      <td>Travel</td>\n",
       "      <td>112</td>\n",
       "    </tr>\n",
       "    <tr>\n",
       "      <td>4</td>\n",
       "      <td>-0.013057</td>\n",
       "      <td>NJ</td>\n",
       "      <td>34</td>\n",
       "      <td>1</td>\n",
       "      <td>6</td>\n",
       "      <td>-0.955335</td>\n",
       "      <td>1</td>\n",
       "      <td>314.705882</td>\n",
       "      <td>Health &amp; Fitness</td>\n",
       "      <td>95</td>\n",
       "    </tr>\n",
       "  </tbody>\n",
       "</table>\n",
       "</div>"
      ],
      "text/plain": [
       "   CPL_wrt_BC client_state  duration  num_prods  calls  CPL_wrt_self  churn  \\\n",
       "0    0.000000           AZ        73          6      2           NaN      1   \n",
       "1   -0.623618           CA         1          1      3      0.000000      0   \n",
       "2    0.007905           NY       102          2      8     -0.292008      0   \n",
       "3   -0.104900           MN         6          1      5      0.587206      0   \n",
       "4   -0.013057           NJ        34          1      6     -0.955335      1   \n",
       "\n",
       "     avg_budget                                            BC  clicks  \n",
       "0  10082.152554                        Beauty & Personal Care     107  \n",
       "1    133.928571      Shopping, Collectibles & Gifts (General)      79  \n",
       "2   3935.017462  Personal Services (Weddings, Cleaners, etc.)      90  \n",
       "3    461.538462                                        Travel     112  \n",
       "4    314.705882                              Health & Fitness      95  "
      ]
     },
     "execution_count": 3,
     "metadata": {},
     "output_type": "execute_result"
    }
   ],
   "source": [
    "## load csv and assign column names\n",
    "data = pd.read_csv('./assets/data.csv', names = columns) \n",
    "data.head()"
   ]
  },
  {
   "cell_type": "markdown",
   "metadata": {},
   "source": [
    "### EDA\n",
    "\n",
    "Now that I have the data frame, I will explore the dataset and check the following:\n",
    "\n",
    "1. Missingness: If there are any columns with missing values, either impute the missing values or drop the column if a significant proportion of values are missing.\n",
    "2. Balance: Ideally, the dataset is evenly split between customers that churned and customers that stayed. If the dataset is very imbalanced (ex. 99% of customers in dataset stayed), a model that always predicts \"0\" can get very high accuracy.\n",
    "3. Cardinality: most implementations of machine learning models struggle with categorical input, so for the categorical variables (client_state and BC), determine the number of values that each can take. If it's a low-cardinality variable, I can simply make dummy variables to use for modeling.\n",
    "\n",
    "I will modify the dataset in the next section based on what I find."
   ]
  },
  {
   "cell_type": "code",
   "execution_count": 4,
   "metadata": {},
   "outputs": [
    {
     "name": "stdout",
     "output_type": "stream",
     "text": [
      "              NA_count\n",
      "CPL_wrt_BC           0\n",
      "client_state         0\n",
      "duration             0\n",
      "num_prods            0\n",
      "calls                0\n",
      "CPL_wrt_self      1092\n",
      "churn                0\n",
      "avg_budget           0\n",
      "BC                   0\n",
      "clicks               0\n"
     ]
    }
   ],
   "source": [
    "## check data frame for missing values\n",
    "NA_count = data.isnull().sum()\n",
    "NA_info = pd.DataFrame({'NA_count': NA_count})\n",
    "print(NA_info)"
   ]
  },
  {
   "cell_type": "code",
   "execution_count": 5,
   "metadata": {
    "scrolled": true
   },
   "outputs": [
    {
     "data": {
      "text/html": [
       "<div>\n",
       "<style scoped>\n",
       "    .dataframe tbody tr th:only-of-type {\n",
       "        vertical-align: middle;\n",
       "    }\n",
       "\n",
       "    .dataframe tbody tr th {\n",
       "        vertical-align: top;\n",
       "    }\n",
       "\n",
       "    .dataframe thead th {\n",
       "        text-align: right;\n",
       "    }\n",
       "</style>\n",
       "<table border=\"1\" class=\"dataframe\">\n",
       "  <thead>\n",
       "    <tr style=\"text-align: right;\">\n",
       "      <th></th>\n",
       "      <th>CPL_wrt_BC</th>\n",
       "      <th>client_state</th>\n",
       "      <th>duration</th>\n",
       "      <th>num_prods</th>\n",
       "      <th>calls</th>\n",
       "      <th>CPL_wrt_self</th>\n",
       "      <th>churn</th>\n",
       "      <th>avg_budget</th>\n",
       "      <th>BC</th>\n",
       "      <th>clicks</th>\n",
       "    </tr>\n",
       "  </thead>\n",
       "  <tbody>\n",
       "    <tr>\n",
       "      <td>0</td>\n",
       "      <td>0.000000</td>\n",
       "      <td>AZ</td>\n",
       "      <td>73</td>\n",
       "      <td>6</td>\n",
       "      <td>2</td>\n",
       "      <td>NaN</td>\n",
       "      <td>1</td>\n",
       "      <td>10082.152554</td>\n",
       "      <td>Beauty &amp; Personal Care</td>\n",
       "      <td>107</td>\n",
       "    </tr>\n",
       "    <tr>\n",
       "      <td>8</td>\n",
       "      <td>0.000000</td>\n",
       "      <td>MD</td>\n",
       "      <td>53</td>\n",
       "      <td>2</td>\n",
       "      <td>3</td>\n",
       "      <td>NaN</td>\n",
       "      <td>0</td>\n",
       "      <td>2812.286923</td>\n",
       "      <td>Home &amp; Home Improvement</td>\n",
       "      <td>113</td>\n",
       "    </tr>\n",
       "    <tr>\n",
       "      <td>21</td>\n",
       "      <td>0.000000</td>\n",
       "      <td>WA</td>\n",
       "      <td>36</td>\n",
       "      <td>4</td>\n",
       "      <td>1</td>\n",
       "      <td>NaN</td>\n",
       "      <td>0</td>\n",
       "      <td>2257.655829</td>\n",
       "      <td>Home &amp; Home Improvement</td>\n",
       "      <td>73</td>\n",
       "    </tr>\n",
       "    <tr>\n",
       "      <td>35</td>\n",
       "      <td>0.000000</td>\n",
       "      <td>CA</td>\n",
       "      <td>108</td>\n",
       "      <td>3</td>\n",
       "      <td>4</td>\n",
       "      <td>NaN</td>\n",
       "      <td>0</td>\n",
       "      <td>510.823940</td>\n",
       "      <td>Home &amp; Home Improvement</td>\n",
       "      <td>132</td>\n",
       "    </tr>\n",
       "    <tr>\n",
       "      <td>68</td>\n",
       "      <td>0.000000</td>\n",
       "      <td>IL</td>\n",
       "      <td>40</td>\n",
       "      <td>4</td>\n",
       "      <td>8</td>\n",
       "      <td>NaN</td>\n",
       "      <td>0</td>\n",
       "      <td>7924.382535</td>\n",
       "      <td>Home &amp; Home Improvement</td>\n",
       "      <td>65</td>\n",
       "    </tr>\n",
       "    <tr>\n",
       "      <td>85</td>\n",
       "      <td>0.000000</td>\n",
       "      <td>GA</td>\n",
       "      <td>62</td>\n",
       "      <td>4</td>\n",
       "      <td>2</td>\n",
       "      <td>NaN</td>\n",
       "      <td>0</td>\n",
       "      <td>1438.468633</td>\n",
       "      <td>Furniture</td>\n",
       "      <td>129</td>\n",
       "    </tr>\n",
       "    <tr>\n",
       "      <td>87</td>\n",
       "      <td>-0.111111</td>\n",
       "      <td>CA</td>\n",
       "      <td>56</td>\n",
       "      <td>2</td>\n",
       "      <td>4</td>\n",
       "      <td>NaN</td>\n",
       "      <td>1</td>\n",
       "      <td>2096.359612</td>\n",
       "      <td>Home &amp; Home Improvement</td>\n",
       "      <td>131</td>\n",
       "    </tr>\n",
       "    <tr>\n",
       "      <td>105</td>\n",
       "      <td>0.000000</td>\n",
       "      <td>NY</td>\n",
       "      <td>36</td>\n",
       "      <td>3</td>\n",
       "      <td>2</td>\n",
       "      <td>NaN</td>\n",
       "      <td>0</td>\n",
       "      <td>2092.187653</td>\n",
       "      <td>Home &amp; Home Improvement</td>\n",
       "      <td>65</td>\n",
       "    </tr>\n",
       "    <tr>\n",
       "      <td>108</td>\n",
       "      <td>0.000000</td>\n",
       "      <td>FL</td>\n",
       "      <td>31</td>\n",
       "      <td>2</td>\n",
       "      <td>9</td>\n",
       "      <td>NaN</td>\n",
       "      <td>0</td>\n",
       "      <td>1558.546529</td>\n",
       "      <td>Home &amp; Home Improvement</td>\n",
       "      <td>97</td>\n",
       "    </tr>\n",
       "    <tr>\n",
       "      <td>114</td>\n",
       "      <td>-0.094938</td>\n",
       "      <td>NH</td>\n",
       "      <td>6</td>\n",
       "      <td>1</td>\n",
       "      <td>7</td>\n",
       "      <td>NaN</td>\n",
       "      <td>0</td>\n",
       "      <td>1606.624487</td>\n",
       "      <td>Automotive -- For Sale</td>\n",
       "      <td>101</td>\n",
       "    </tr>\n",
       "  </tbody>\n",
       "</table>\n",
       "</div>"
      ],
      "text/plain": [
       "     CPL_wrt_BC client_state  duration  num_prods  calls  CPL_wrt_self  churn  \\\n",
       "0      0.000000           AZ        73          6      2           NaN      1   \n",
       "8      0.000000           MD        53          2      3           NaN      0   \n",
       "21     0.000000           WA        36          4      1           NaN      0   \n",
       "35     0.000000           CA       108          3      4           NaN      0   \n",
       "68     0.000000           IL        40          4      8           NaN      0   \n",
       "85     0.000000           GA        62          4      2           NaN      0   \n",
       "87    -0.111111           CA        56          2      4           NaN      1   \n",
       "105    0.000000           NY        36          3      2           NaN      0   \n",
       "108    0.000000           FL        31          2      9           NaN      0   \n",
       "114   -0.094938           NH         6          1      7           NaN      0   \n",
       "\n",
       "       avg_budget                       BC  clicks  \n",
       "0    10082.152554   Beauty & Personal Care     107  \n",
       "8     2812.286923  Home & Home Improvement     113  \n",
       "21    2257.655829  Home & Home Improvement      73  \n",
       "35     510.823940  Home & Home Improvement     132  \n",
       "68    7924.382535  Home & Home Improvement      65  \n",
       "85    1438.468633                Furniture     129  \n",
       "87    2096.359612  Home & Home Improvement     131  \n",
       "105   2092.187653  Home & Home Improvement      65  \n",
       "108   1558.546529  Home & Home Improvement      97  \n",
       "114   1606.624487   Automotive -- For Sale     101  "
      ]
     },
     "execution_count": 5,
     "metadata": {},
     "output_type": "execute_result"
    }
   ],
   "source": [
    "has_missing = data[data[\"CPL_wrt_self\"].isnull()]\n",
    "has_missing.head(10)"
   ]
  },
  {
   "cell_type": "code",
   "execution_count": 6,
   "metadata": {
    "scrolled": true
   },
   "outputs": [
    {
     "data": {
      "text/plain": [
       "439"
      ]
     },
     "execution_count": 6,
     "metadata": {},
     "output_type": "execute_result"
    }
   ],
   "source": [
    "## check if CPL_wrt_self being NA implies CPL_wrt_BC is a certain value (i.e. 0)\n",
    "len(has_missing[\"CPL_wrt_BC\"].unique())"
   ]
  },
  {
   "cell_type": "code",
   "execution_count": 7,
   "metadata": {},
   "outputs": [
    {
     "name": "stdout",
     "output_type": "stream",
     "text": [
      "The number of unique values for business category is: 31\n",
      "The number of unique values for client state is: 51\n"
     ]
    }
   ],
   "source": [
    "## check number of unique values for categorical variables\n",
    "print(\"The number of unique values for business category is: {}\".format(len(data[\"BC\"].unique())))\n",
    "print(\"The number of unique values for client state is: {}\".format(len(data[\"client_state\"].unique())))"
   ]
  },
  {
   "cell_type": "code",
   "execution_count": 8,
   "metadata": {
    "scrolled": true
   },
   "outputs": [
    {
     "data": {
      "text/plain": [
       "Text(0.5, 1.0, 'Distribution of Classes for \"Churn\"')"
      ]
     },
     "execution_count": 8,
     "metadata": {},
     "output_type": "execute_result"
    },
    {
     "data": {
      "image/png": "[encoded data removed]",
      "text/plain": [
       "<Figure size 432x288 with 1 Axes>"
      ]
     },
     "metadata": {},
     "output_type": "display_data"
    }
   ],
   "source": [
    "## check how balanced dataset is\n",
    "sns.set_style(\"darkgrid\")\n",
    "sns.countplot(data[\"churn\"])\n",
    "plt.title('Distribution of Classes for \"Churn\"')"
   ]
  },
  {
   "cell_type": "markdown",
   "metadata": {},
   "source": [
    "**Here are the key findings:**\n",
    "\n",
    "1. Overall, it appears that the dataset is clean, with the exception of \"CPL_wrt_self\", which has about 10% missing values. The missingness does not appear to be systematic (among the clients with missing values, there's a variety of values for other features). There's another similar feature, \"CPL_wrt_BC\", which is the difference in cost per lead between the client and its business category, but it appears that there's no relationship between \"CPL_wrt_self\" being missing and the value for \"CPL_wrt_BC\".\n",
    "2. Both categorical variables have high cardinality, so making dummy variables  would create 80+ low variance features and make the dataset too sparse.\n",
    "3. 20% of the customers in the dataset churned while the other 80% stayed, so the dataset is imbalanced."
   ]
  },
  {
   "cell_type": "markdown",
   "metadata": {},
   "source": [
    "### Data Cleaning and Feature Engineering\n",
    "\n",
    "Now that I have a better understanding of the dataset, here's what I will do before modeling:\n",
    "\n",
    "1. Impute the missing values for \"CPL_wrt_self\". I'll use nearest neighbors imputation, which replaces missing values for a given observation with the average value for the 5 observations in the dataset that's closest (i.e. most similar) to that observation using a nearest neighbors algorithm. This is better than mean imputation because while mean imputation is unbiased, it adds no information and can introduce bias if the missingness is not random.\n",
    "2. Use likelihood encoding for the categorical variables, which essentially encodes each class of a categorical feature with the mean target value within that class, given some regularization. This wallows me to create labels that are directly correlated with the target.\n",
    "\n",
    "I considered resampling the data to correct the imbalance (i.e. using SMOTE to generate synthetic observations for clients who churned), but it's challenging to make any inference using models trained on resampled/synthetic data. Since we may want to use these models to identify the factors that cause clients to churn, I chose not to resample here and will address the imbalance in the next section."
   ]
  },
  {
   "cell_type": "code",
   "execution_count": 9,
   "metadata": {},
   "outputs": [],
   "source": [
    "X = data.drop([\"churn\"], axis=1)\n",
    "Y = data[\"churn\"]"
   ]
  },
  {
   "cell_type": "code",
   "execution_count": 10,
   "metadata": {},
   "outputs": [],
   "source": [
    "## use likelihood encoding to transform categorical variables\n",
    "ce_target = ce.TargetEncoder(cols = [\"BC\", \"client_state\"])\n",
    "X = ce_target.fit_transform(X, Y)"
   ]
  },
  {
   "cell_type": "code",
   "execution_count": 11,
   "metadata": {},
   "outputs": [],
   "source": [
    "## use KNN imputation to impute NA's\n",
    "imputer = KNNImputer(n_neighbors=5)\n",
    "imputed_X = imputer.fit_transform(X)\n",
    "\n",
    "clean_X = pd.DataFrame(imputed_X)\n",
    "clean_X.columns = X.columns"
   ]
  },
  {
   "cell_type": "code",
   "execution_count": 12,
   "metadata": {
    "scrolled": true
   },
   "outputs": [
    {
     "data": {
      "text/html": [
       "<div>\n",
       "<style scoped>\n",
       "    .dataframe tbody tr th:only-of-type {\n",
       "        vertical-align: middle;\n",
       "    }\n",
       "\n",
       "    .dataframe tbody tr th {\n",
       "        vertical-align: top;\n",
       "    }\n",
       "\n",
       "    .dataframe thead th {\n",
       "        text-align: right;\n",
       "    }\n",
       "</style>\n",
       "<table border=\"1\" class=\"dataframe\">\n",
       "  <thead>\n",
       "    <tr style=\"text-align: right;\">\n",
       "      <th></th>\n",
       "      <th>CPL_wrt_BC</th>\n",
       "      <th>client_state</th>\n",
       "      <th>duration</th>\n",
       "      <th>num_prods</th>\n",
       "      <th>calls</th>\n",
       "      <th>CPL_wrt_self</th>\n",
       "      <th>avg_budget</th>\n",
       "      <th>BC</th>\n",
       "      <th>clicks</th>\n",
       "    </tr>\n",
       "  </thead>\n",
       "  <tbody>\n",
       "    <tr>\n",
       "      <td>0</td>\n",
       "      <td>0.000000</td>\n",
       "      <td>0.223022</td>\n",
       "      <td>73.0</td>\n",
       "      <td>6.0</td>\n",
       "      <td>2.0</td>\n",
       "      <td>-0.041717</td>\n",
       "      <td>10082.152554</td>\n",
       "      <td>0.153061</td>\n",
       "      <td>107.0</td>\n",
       "    </tr>\n",
       "    <tr>\n",
       "      <td>1</td>\n",
       "      <td>-0.623618</td>\n",
       "      <td>0.193123</td>\n",
       "      <td>1.0</td>\n",
       "      <td>1.0</td>\n",
       "      <td>3.0</td>\n",
       "      <td>0.000000</td>\n",
       "      <td>133.928571</td>\n",
       "      <td>0.120924</td>\n",
       "      <td>79.0</td>\n",
       "    </tr>\n",
       "    <tr>\n",
       "      <td>2</td>\n",
       "      <td>0.007905</td>\n",
       "      <td>0.164134</td>\n",
       "      <td>102.0</td>\n",
       "      <td>2.0</td>\n",
       "      <td>8.0</td>\n",
       "      <td>-0.292008</td>\n",
       "      <td>3935.017462</td>\n",
       "      <td>0.174737</td>\n",
       "      <td>90.0</td>\n",
       "    </tr>\n",
       "    <tr>\n",
       "      <td>3</td>\n",
       "      <td>-0.104900</td>\n",
       "      <td>0.218978</td>\n",
       "      <td>6.0</td>\n",
       "      <td>1.0</td>\n",
       "      <td>5.0</td>\n",
       "      <td>0.587206</td>\n",
       "      <td>461.538462</td>\n",
       "      <td>0.187500</td>\n",
       "      <td>112.0</td>\n",
       "    </tr>\n",
       "    <tr>\n",
       "      <td>4</td>\n",
       "      <td>-0.013057</td>\n",
       "      <td>0.163265</td>\n",
       "      <td>34.0</td>\n",
       "      <td>1.0</td>\n",
       "      <td>6.0</td>\n",
       "      <td>-0.955335</td>\n",
       "      <td>314.705882</td>\n",
       "      <td>0.246493</td>\n",
       "      <td>95.0</td>\n",
       "    </tr>\n",
       "    <tr>\n",
       "      <td>5</td>\n",
       "      <td>-0.099898</td>\n",
       "      <td>0.187302</td>\n",
       "      <td>78.0</td>\n",
       "      <td>1.0</td>\n",
       "      <td>2.0</td>\n",
       "      <td>-0.246108</td>\n",
       "      <td>1759.027113</td>\n",
       "      <td>0.120924</td>\n",
       "      <td>92.0</td>\n",
       "    </tr>\n",
       "    <tr>\n",
       "      <td>6</td>\n",
       "      <td>-0.097934</td>\n",
       "      <td>0.152778</td>\n",
       "      <td>72.0</td>\n",
       "      <td>2.0</td>\n",
       "      <td>1.0</td>\n",
       "      <td>0.111382</td>\n",
       "      <td>1217.301833</td>\n",
       "      <td>0.221477</td>\n",
       "      <td>91.0</td>\n",
       "    </tr>\n",
       "    <tr>\n",
       "      <td>7</td>\n",
       "      <td>-0.036812</td>\n",
       "      <td>0.164134</td>\n",
       "      <td>6.0</td>\n",
       "      <td>1.0</td>\n",
       "      <td>4.0</td>\n",
       "      <td>-0.376698</td>\n",
       "      <td>5376.736111</td>\n",
       "      <td>0.251928</td>\n",
       "      <td>118.0</td>\n",
       "    </tr>\n",
       "    <tr>\n",
       "      <td>8</td>\n",
       "      <td>0.000000</td>\n",
       "      <td>0.176316</td>\n",
       "      <td>53.0</td>\n",
       "      <td>2.0</td>\n",
       "      <td>3.0</td>\n",
       "      <td>0.571958</td>\n",
       "      <td>2812.286923</td>\n",
       "      <td>0.201149</td>\n",
       "      <td>113.0</td>\n",
       "    </tr>\n",
       "    <tr>\n",
       "      <td>9</td>\n",
       "      <td>-0.108222</td>\n",
       "      <td>0.164134</td>\n",
       "      <td>45.0</td>\n",
       "      <td>1.0</td>\n",
       "      <td>6.0</td>\n",
       "      <td>-0.176777</td>\n",
       "      <td>1178.372327</td>\n",
       "      <td>0.221477</td>\n",
       "      <td>104.0</td>\n",
       "    </tr>\n",
       "  </tbody>\n",
       "</table>\n",
       "</div>"
      ],
      "text/plain": [
       "   CPL_wrt_BC  client_state  duration  num_prods  calls  CPL_wrt_self  \\\n",
       "0    0.000000      0.223022      73.0        6.0    2.0     -0.041717   \n",
       "1   -0.623618      0.193123       1.0        1.0    3.0      0.000000   \n",
       "2    0.007905      0.164134     102.0        2.0    8.0     -0.292008   \n",
       "3   -0.104900      0.218978       6.0        1.0    5.0      0.587206   \n",
       "4   -0.013057      0.163265      34.0        1.0    6.0     -0.955335   \n",
       "5   -0.099898      0.187302      78.0        1.0    2.0     -0.246108   \n",
       "6   -0.097934      0.152778      72.0        2.0    1.0      0.111382   \n",
       "7   -0.036812      0.164134       6.0        1.0    4.0     -0.376698   \n",
       "8    0.000000      0.176316      53.0        2.0    3.0      0.571958   \n",
       "9   -0.108222      0.164134      45.0        1.0    6.0     -0.176777   \n",
       "\n",
       "     avg_budget        BC  clicks  \n",
       "0  10082.152554  0.153061   107.0  \n",
       "1    133.928571  0.120924    79.0  \n",
       "2   3935.017462  0.174737    90.0  \n",
       "3    461.538462  0.187500   112.0  \n",
       "4    314.705882  0.246493    95.0  \n",
       "5   1759.027113  0.120924    92.0  \n",
       "6   1217.301833  0.221477    91.0  \n",
       "7   5376.736111  0.251928   118.0  \n",
       "8   2812.286923  0.201149   113.0  \n",
       "9   1178.372327  0.221477   104.0  "
      ]
     },
     "execution_count": 12,
     "metadata": {},
     "output_type": "execute_result"
    }
   ],
   "source": [
    "clean_X.head(10)"
   ]
  },
  {
   "cell_type": "markdown",
   "metadata": {},
   "source": [
    "### Model Fitting\n",
    "\n",
    "For this classification problem, I will fit the following models: logistic regression, decision tree, SVM, random forest, GBM. I will set aside 20% of the data as a test set, use 5-fold cross validation on the training set to tune the hyperparameters as needed, and pick the model that performs best on the test set as the final model.  \n",
    "\n",
    "Since the target variable is imbalanced and I decided not to use resampling to balance out the dataset, I will use weighing to account for the imbalance. By assigning class weights to the models, I'm penalizing misclassifications of the minority class more heavily. In this case, there are 4 times as many retentions as churns, so I will penalize the model 4 times as hard for misclassifying a client who actually churned.\n",
    "\n",
    "Lastly, I will use recall score as my metric. Recall answers the question: out of the clients who actually churned, how many did the model predict would churn? \n",
    "\n",
    "Recall is a useful metric in this case because the goal is to predict customers that churn, so I want the model to be able to correctly identify the relatively small proportion of customers who actually churned. Essentially, I'm willing to misidentify a client who stays as a client who churns if it means I can correctly classify more clients that actually churn. Optimizing for recall will allow the model to better predict which clients will churn and allow us to give retention offers to the clients we are likely to lose. "
   ]
  },
  {
   "cell_type": "code",
   "execution_count": 13,
   "metadata": {},
   "outputs": [],
   "source": [
    "## split data into test and training sets\n",
    "X_train, X_test, Y_train, Y_test = train_test_split(clean_X, Y, test_size=0.2, random_state=100)"
   ]
  },
  {
   "cell_type": "markdown",
   "metadata": {},
   "source": [
    "#### Logistic Regression"
   ]
  },
  {
   "cell_type": "code",
   "execution_count": 14,
   "metadata": {},
   "outputs": [
    {
     "name": "stdout",
     "output_type": "stream",
     "text": [
      "The logistic regression model has a recall of: 0.224\n"
     ]
    }
   ],
   "source": [
    "logistic_model = LogisticRegression(random_state=10, max_iter=1000, penalty='none', class_weight={0:1,1:4})\n",
    "logistic_model.fit(X_train, Y_train)\n",
    "logistic_preds = logistic_model.predict(X_test)\n",
    "print(\"The logistic regression model has a recall of: {}\".format(recall_score(logistic_preds, Y_test)))"
   ]
  },
  {
   "cell_type": "markdown",
   "metadata": {},
   "source": [
    "#### Decision Tree"
   ]
  },
  {
   "cell_type": "code",
   "execution_count": 15,
   "metadata": {},
   "outputs": [
    {
     "name": "stdout",
     "output_type": "stream",
     "text": [
      "The decision tree has a recall of: 0.3646112600536193\n"
     ]
    }
   ],
   "source": [
    "decision_tree = DecisionTreeClassifier(class_weight={0:1,1:4}, random_state=5)\n",
    "decision_tree.fit(X_train, Y_train)\n",
    "tree_preds = decision_tree.predict(X_test)\n",
    "print(\"The decision tree has a recall of: {}\".format(recall_score(tree_preds, Y_test)))"
   ]
  },
  {
   "cell_type": "markdown",
   "metadata": {},
   "source": [
    "#### Support Vector Machine"
   ]
  },
  {
   "cell_type": "code",
   "execution_count": 16,
   "metadata": {},
   "outputs": [
    {
     "name": "stdout",
     "output_type": "stream",
     "text": [
      "{'C': 0.01}\n"
     ]
    }
   ],
   "source": [
    "## note: SVM's converge faster when data is normalized, but since this didn't take long to run I will skip normalizing\n",
    "svm_model = svm.SVC(kernel='rbf', random_state=5, class_weight={0:1,1:4})\n",
    "\n",
    "## initialize parameter space and find optimal hyperparameters\n",
    "parameters = {'C': [.01, .1, .5, 1, 5, 10, 100]}\n",
    "\n",
    "np.random.seed(seed=1000)\n",
    "svm_gridcv = GridSearchCV(estimator = svm_model, param_grid = parameters, cv = 5, scoring = 'recall')\n",
    "svm_gridcv.fit(X_train, Y_train)\n",
    "\n",
    "print(svm_gridcv.best_params_)"
   ]
  },
  {
   "cell_type": "code",
   "execution_count": 17,
   "metadata": {},
   "outputs": [
    {
     "name": "stdout",
     "output_type": "stream",
     "text": [
      "The best SVM model has a recall of: 0.2118081180811808\n"
     ]
    }
   ],
   "source": [
    "## compute recall score for optimized model\n",
    "svm_mod = svm.SVC(kernel = 'rbf', C=.01, random_state=5, class_weight={0:1,1:4})\n",
    "svm_mod.fit(X_train, Y_train)\n",
    "svm_preds = svm_mod.predict(X_test)\n",
    "print(\"The best SVM model has a recall of: {}\".format(recall_score(svm_preds, Y_test)))"
   ]
  },
  {
   "cell_type": "markdown",
   "metadata": {},
   "source": [
    "#### Random Forest"
   ]
  },
  {
   "cell_type": "code",
   "execution_count": 18,
   "metadata": {},
   "outputs": [
    {
     "name": "stdout",
     "output_type": "stream",
     "text": [
      "{'n_estimators': 300}\n"
     ]
    }
   ],
   "source": [
    "## random forest\n",
    "rf_model = RandomForestClassifier(random_state = 5, class_weight={0:1,1:4})\n",
    "\n",
    "## initialize parameter space and find optimal hyperparameters\n",
    "parameters = {'n_estimators': np.arange(30, 601, 30)}\n",
    "\n",
    "np.random.seed(seed=1000)\n",
    "rf_gridcv = GridSearchCV(estimator = rf_model, param_grid = parameters, cv = 5, scoring = 'recall')\n",
    "rf_gridcv.fit(X_train, Y_train)\n",
    "\n",
    "print(rf_gridcv.best_params_)"
   ]
  },
  {
   "cell_type": "code",
   "execution_count": 19,
   "metadata": {},
   "outputs": [
    {
     "name": "stdout",
     "output_type": "stream",
     "text": [
      "The best random forest model has a recall of: 0.6875\n"
     ]
    }
   ],
   "source": [
    "## compute recall score for optimized model\n",
    "rf_mod = RandomForestClassifier(n_estimators = 300, class_weight={0:1,1:4}, random_state=5)\n",
    "rf_mod.fit(X_train, Y_train)\n",
    "rf_preds = rf_mod.predict(X_test)\n",
    "print(\"The best random forest model has a recall of: {}\".format(recall_score(rf_preds, Y_test)))"
   ]
  },
  {
   "cell_type": "markdown",
   "metadata": {},
   "source": [
    "#### Gradient Boosting Machine"
   ]
  },
  {
   "cell_type": "code",
   "execution_count": 20,
   "metadata": {},
   "outputs": [
    {
     "name": "stdout",
     "output_type": "stream",
     "text": [
      "{'learning_rate': 1, 'n_estimators': 400}\n"
     ]
    }
   ],
   "source": [
    "## gradient boosting machine\n",
    "gb_model = GradientBoostingClassifier(random_state = 5)\n",
    "\n",
    "## initialize parameter space and find optimal hyperparameters\n",
    "rates = [.01, .1, .25, .5, .75, 1]\n",
    "ntrees = [x for x in np.arange(100, 501, 100)]\n",
    "\n",
    "parameters = {'learning_rate': rates,\n",
    "              'n_estimators': ntrees}\n",
    "\n",
    "np.random.seed(seed=1000)\n",
    "gbm_gridcv = GridSearchCV(estimator = gb_model, param_grid = parameters, cv = 5, scoring = 'recall')\n",
    "gbm_gridcv.fit(X_train, Y_train)\n",
    "\n",
    "print(gbm_gridcv.best_params_)"
   ]
  },
  {
   "cell_type": "code",
   "execution_count": 21,
   "metadata": {},
   "outputs": [
    {
     "name": "stdout",
     "output_type": "stream",
     "text": [
      "The best GBM model has a recall of: 0.44694533762057875\n"
     ]
    }
   ],
   "source": [
    "## compute recall score for optimized model\n",
    "gbm_mod = GradientBoostingClassifier(learning_rate = 1, n_estimators = 400)\n",
    "gbm_mod.fit(X_train, Y_train)\n",
    "gbm_preds = gbm_mod.predict(X_test)\n",
    "print(\"The best GBM model has a recall of: {}\".format(recall_score(gbm_preds, Y_test)))"
   ]
  },
  {
   "cell_type": "markdown",
   "metadata": {},
   "source": [
    "### Summary\n",
    "\n",
    "Here is how each model (after optimizing hyperparameters) performed on the test set, using recall as the metric:\n",
    "1. Logistic Regression: .224\n",
    "2. Decision Tree: .365\n",
    "3. SVM: .212\n",
    "4. Random Forest: .688\n",
    "5. GBM: .455\n",
    "\n",
    "The random forest with 300 trees performed best by far, so I will use that as the final model. Let's see how it performed in terms of accuracy as well."
   ]
  },
  {
   "cell_type": "code",
   "execution_count": 22,
   "metadata": {},
   "outputs": [
    {
     "name": "stdout",
     "output_type": "stream",
     "text": [
      "Random Forest Accuracy: 0.8255\n",
      "Random Forest Recall: 0.6875\n"
     ]
    }
   ],
   "source": [
    "print(\"Random Forest Accuracy: {}\".format(accuracy_score(rf_preds, Y_test)))\n",
    "print(\"Random Forest Recall: {}\".format(recall_score(rf_preds, Y_test)))"
   ]
  },
  {
   "cell_type": "code",
   "execution_count": 23,
   "metadata": {},
   "outputs": [],
   "source": [
    "## get a sense of feature importance based on random forest\n",
    "importances = rf_mod.feature_importances_\n",
    "most_important_idx = importances.argsort()\n",
    "features = X_train.columns"
   ]
  },
  {
   "cell_type": "code",
   "execution_count": 36,
   "metadata": {},
   "outputs": [
    {
     "data": {
      "image/png": "[encoded data removed]",
      "text/plain": [
       "<Figure size 864x576 with 1 Axes>"
      ]
     },
     "metadata": {},
     "output_type": "display_data"
    }
   ],
   "source": [
    "plt.figure(figsize=(12,8))\n",
    "plt.rc('xtick', labelsize=12) \n",
    "plt.rc('ytick', labelsize=14)\n",
    "plt.rc('axes', titlesize=14)   \n",
    "plt.rc('axes', labelsize=14)\n",
    "plt.title('Feature Importances (Random Forest)')\n",
    "plt.barh(range(len(most_important_idx)), importances[most_important_idx], color='lightsteelblue', align='center')\n",
    "plt.yticks(range(len(most_important_idx)), [features[i] for i in most_important_idx])\n",
    "plt.xlabel('Relative Importance')\n",
    "plt.show()"
   ]
  }
 ],
 "metadata": {
  "kernelspec": {
   "display_name": "Python 3",
   "language": "python",
   "name": "python3"
  },
  "language_info": {
   "codemirror_mode": {
    "name": "ipython",
    "version": 3
   },
   "file_extension": ".py",
   "mimetype": "text/x-python",
   "name": "python",
   "nbconvert_exporter": "python",
   "pygments_lexer": "ipython3",
   "version": "3.7.4"
  }
 },
 "nbformat": 4,
 "nbformat_minor": 2
}
