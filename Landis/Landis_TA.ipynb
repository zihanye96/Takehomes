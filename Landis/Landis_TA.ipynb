{
 "cells": [
  {
   "cell_type": "markdown",
   "metadata": {},
   "source": [
    "# Overview"
   ]
  },
  {
   "cell_type": "markdown",
   "metadata": {},
   "source": [
    "### About the Data\n",
    "\n",
    "Each xml file contains credit information for a given customer. For example, a customer can have 3 different loans on file, and for each loan there's information such as whether or not the loan was paid on time for a given month (on time, 30 days late, 60+ days late), as well as other information like the loan type, the status of the loan (paid, current, late, etc), and the balance remaining on the loan. The duration of the loans vary, so one loan may only take 12 months to pay off but another can take 22 months."
   ]
  },
  {
   "cell_type": "markdown",
   "metadata": {},
   "source": [
    "### Structuring the Data\n",
    "\n",
    "Here's how I plan to format the dataset:\n",
    "\n",
    "Each row will be a customer. It will contain their SSN and ID (to uniquely identify the customer), credit score, as well as a few features that I will create to summarize important information about their loan history. Here is a list of features I created (12 in total):\n",
    "\n",
    "1. The total number of loans and number of active loans \n",
    "2. The current balance owed and the total amount borrowed (across all loans)\n",
    "3. The year the borrower started borrowing\n",
    "4. The total number of months of loans\n",
    "5. Counts and proportions of on time, 30 days late, 60+ days late payments (across all loans)."
   ]
  },
  {
   "cell_type": "markdown",
   "metadata": {},
   "source": [
    "### Model Fitting and Interpretation\n",
    "After creating the dataset, I will use 2 models to measure performance. I will use linear regression as a baseline and random forest (tuned via 5-fold cv) as the final model. I won't be interpreting the linear regression coefficients because some of these features are collinear (ex. proportion of on time payments and number of on time payments). However, tree-based models like random forests can also give me a sense of feature importance (via mean decrease impurity). So, from the random forest, I will be able to extrapolate the most important features (as deemed by the model) for determining one's credit score.\n"
   ]
  },
  {
   "cell_type": "code",
   "execution_count": 1,
   "metadata": {},
   "outputs": [],
   "source": [
    "## import required modules \n",
    "import numpy as np\n",
    "import pandas as pd\n",
    "import os\n",
    "import xml.etree.ElementTree as ET\n",
    "\n",
    "import matplotlib\n",
    "import matplotlib.pyplot as plt\n",
    "import seaborn as sns\n",
    "\n",
    "import statsmodels.api as sm\n",
    "from sklearn.ensemble import RandomForestRegressor\n",
    "from sklearn.ensemble import GradientBoostingRegressor\n",
    "\n",
    "from sklearn.model_selection import train_test_split\n",
    "from sklearn.model_selection import GridSearchCV"
   ]
  },
  {
   "cell_type": "code",
   "execution_count": 2,
   "metadata": {},
   "outputs": [],
   "source": [
    "## get a list of all the filesnames in training set\n",
    "filenames_training = [name for name in os.listdir(\"./training\")]\n",
    "\n",
    "## function that parses a single xml file\n",
    "def parse_report(filename):\n",
    "    \n",
    "    tree = ET.parse(\"./training/\" + filename)\n",
    "    root = tree.getroot()\n",
    "    \n",
    "    ## extract id, ssn, and credit score\n",
    "    id_num = root[0].text\n",
    "    ssn = root[2].text\n",
    "    credit_score = root[4].text\n",
    "    \n",
    "    ## initialize dataframe - each row in this df will represent one loan \n",
    "    tmp = pd.DataFrame()\n",
    "    \n",
    "    ## loop over the loans and save the extracted information\n",
    "    for node in tree.iter('tradeline'): # each node corresponds to a loan\n",
    "\n",
    "        i = 0\n",
    "        info = {}\n",
    "        for elem in node.iter(): # each element corresponds to a piece of info about a given loan\n",
    "\n",
    "            if not elem.tag==node.tag and elem.tag not in [\"payment\", \"payments\", \"month\"]:\n",
    "                if elem.tag == \"status\":\n",
    "                    info.update({\"{}_{}\".format(elem.tag, i) : elem.text})\n",
    "                    i += 1\n",
    "                else:\n",
    "                    info.update( {\"{}\".format(elem.tag) : elem.text})\n",
    "            info.update({\"n_months\": i-1})\n",
    "        df = pd.DataFrame(info, index=[0])\n",
    "\n",
    "        ## if a loan is currently late, there's an extra tag called \"overdue\"\n",
    "        if 'overdue' not in df.columns:\n",
    "            df[\"overdue\"] = 0\n",
    "            cols = df.columns.tolist()\n",
    "            cols = cols[-1:] + cols[:-1]\n",
    "            df = df[cols]\n",
    "        \n",
    "        \n",
    "        ## starting from column index 8, each column is whether or not payment was made on time for a given month\n",
    "        ## the code below joins the first 8 columns for a loan with the proportions of on time and late payments \n",
    "        summary = df.iloc[:,:8].join(pd.DataFrame(df.iloc[0,8:].value_counts(normalize=True)).T)\n",
    "        \n",
    "        ## if no payments were made on time/30 days late/60+ days late, then impute the respective column with 0\n",
    "        if '30 DAYS LATE' not in summary.columns:\n",
    "            summary[\"30 DAYS LATE\"] = 0\n",
    "        if '60 DAYS LATE OR MORE' not in summary.columns:\n",
    "            summary[\"60 DAYS LATE OR MORE\"] = 0\n",
    "        if 'ON TIME' not in summary.columns:\n",
    "            summary[\"ON TIME\"] = 0      \n",
    "        \n",
    "        \n",
    "        \n",
    "        tmp = tmp.append(summary, ignore_index=True)\n",
    "    \n",
    "    ## create new features\n",
    "    tmp[\"n_on_time\"] = tmp[\"ON TIME\"] * tmp[\"n_months\"] # number of on time payments\n",
    "    tmp[\"n_30_late\"] = tmp[\"30 DAYS LATE\"] * tmp[\"n_months\"]\n",
    "    tmp[\"n_60_late\"] = tmp[\"60 DAYS LATE OR MORE\"] * tmp[\"n_months\"]\n",
    "    tmp[\"id\"] = id_num\n",
    "    tmp[\"ssn\"] = ssn\n",
    "    tmp[\"credit_score\"] = credit_score\n",
    "    tmp[\"n_loans\"] = len(tmp)\n",
    "    \n",
    "    tmp = tmp.fillna(0)\n",
    "    \n",
    "    ## convert columns to from text to numeric (if applicable)\n",
    "    tmp[\"credit_score\"] = tmp[\"credit_score\"].astype(int)\n",
    "    tmp[\"balance\"] = tmp[\"balance\"].astype(int)\n",
    "    tmp[\"high_credit\"] = tmp[\"high_credit\"].astype(int)\n",
    "    tmp[\"last_activity\"] = tmp[\"last_activity\"].astype(int)\n",
    "    tmp[\"overdue\"] = tmp[\"overdue\"].astype(int)\n",
    "    tmp[\"last_activity\"] = tmp[\"last_activity\"].astype(int) - round(tmp[\"n_months\"]/12) # proxy for \"borrower since\"\n",
    "        \n",
    "    aggregated = tmp.groupby('id').agg({\n",
    "\n",
    "        \"credit_score\": np.min,\n",
    "        'ssn': np.min,\n",
    "        'n_loans': np.mean,\n",
    "        'active': lambda x: np.sum(x == 'True'),\n",
    "        'balance': np.sum,\n",
    "        'high_credit': np.sum,\n",
    "        'last_activity': np.min,\n",
    "        'n_months': np.sum,\n",
    "        'overdue': np.sum,\n",
    "        '30 DAYS LATE': np.mean,\n",
    "        '60 DAYS LATE OR MORE': np.mean,\n",
    "        'ON TIME': np.mean,\n",
    "        'n_on_time': np.sum,\n",
    "        'n_30_late': np.sum,\n",
    "        'n_60_late': np.sum,\n",
    "        'status_0': lambda x: np.sum(x == 'PAID')\n",
    "        \n",
    "        })\n",
    "    \n",
    "    return aggregated\n",
    "\n"
   ]
  },
  {
   "cell_type": "code",
   "execution_count": 4,
   "metadata": {},
   "outputs": [],
   "source": [
    "## parse every xml in training set and save the aggregated data as a df\n",
    "model_data = pd.DataFrame()\n",
    "for filename in filenames_training:\n",
    "    aggregated_df = parse_report(filename)\n",
    "    model_data = model_data.append(aggregated_df)\n",
    "\n",
    "model_data.reset_index(inplace=True)"
   ]
  },
  {
   "cell_type": "code",
   "execution_count": 5,
   "metadata": {},
   "outputs": [
    {
     "data": {
      "text/html": [
       "<div>\n",
       "<style scoped>\n",
       "    .dataframe tbody tr th:only-of-type {\n",
       "        vertical-align: middle;\n",
       "    }\n",
       "\n",
       "    .dataframe tbody tr th {\n",
       "        vertical-align: top;\n",
       "    }\n",
       "\n",
       "    .dataframe thead th {\n",
       "        text-align: right;\n",
       "    }\n",
       "</style>\n",
       "<table border=\"1\" class=\"dataframe\">\n",
       "  <thead>\n",
       "    <tr style=\"text-align: right;\">\n",
       "      <th></th>\n",
       "      <th>id</th>\n",
       "      <th>credit_score</th>\n",
       "      <th>ssn</th>\n",
       "      <th>n_loans</th>\n",
       "      <th>n_active_loans</th>\n",
       "      <th>balance</th>\n",
       "      <th>total_borrowed</th>\n",
       "      <th>borrower_since</th>\n",
       "      <th>total_months_loans</th>\n",
       "      <th>overdue</th>\n",
       "      <th>prop_30_late</th>\n",
       "      <th>prop_60_late</th>\n",
       "      <th>prop_on_time</th>\n",
       "      <th>n_on_time</th>\n",
       "      <th>n_30_late</th>\n",
       "      <th>n_60_late</th>\n",
       "      <th>total_paid_loans</th>\n",
       "    </tr>\n",
       "  </thead>\n",
       "  <tbody>\n",
       "    <tr>\n",
       "      <td>0</td>\n",
       "      <td>44890d77-94da-49a5-8eef-0bdcf7f65979</td>\n",
       "      <td>373</td>\n",
       "      <td>834-53-4673</td>\n",
       "      <td>6</td>\n",
       "      <td>2</td>\n",
       "      <td>30213</td>\n",
       "      <td>75924</td>\n",
       "      <td>2003.0</td>\n",
       "      <td>104</td>\n",
       "      <td>353</td>\n",
       "      <td>0.090694</td>\n",
       "      <td>0.053657</td>\n",
       "      <td>0.855648</td>\n",
       "      <td>88.0</td>\n",
       "      <td>11.0</td>\n",
       "      <td>5.0</td>\n",
       "      <td>2</td>\n",
       "    </tr>\n",
       "    <tr>\n",
       "      <td>1</td>\n",
       "      <td>9169f2ac-fe14-42bd-8241-d241f1feef21</td>\n",
       "      <td>1171</td>\n",
       "      <td>415-47-4090</td>\n",
       "      <td>15</td>\n",
       "      <td>5</td>\n",
       "      <td>23936</td>\n",
       "      <td>112449</td>\n",
       "      <td>1998.0</td>\n",
       "      <td>362</td>\n",
       "      <td>0</td>\n",
       "      <td>0.044931</td>\n",
       "      <td>0.067686</td>\n",
       "      <td>0.887383</td>\n",
       "      <td>324.0</td>\n",
       "      <td>15.0</td>\n",
       "      <td>23.0</td>\n",
       "      <td>9</td>\n",
       "    </tr>\n",
       "    <tr>\n",
       "      <td>2</td>\n",
       "      <td>406c1f50-b4a2-408c-867c-999eab97cfb7</td>\n",
       "      <td>1743</td>\n",
       "      <td>307-48-7978</td>\n",
       "      <td>18</td>\n",
       "      <td>8</td>\n",
       "      <td>76732</td>\n",
       "      <td>220977</td>\n",
       "      <td>2000.0</td>\n",
       "      <td>397</td>\n",
       "      <td>0</td>\n",
       "      <td>0.039103</td>\n",
       "      <td>0.041707</td>\n",
       "      <td>0.919190</td>\n",
       "      <td>362.0</td>\n",
       "      <td>18.0</td>\n",
       "      <td>17.0</td>\n",
       "      <td>8</td>\n",
       "    </tr>\n",
       "    <tr>\n",
       "      <td>3</td>\n",
       "      <td>fbbfd912-cd67-4f18-b961-fad31c6261da</td>\n",
       "      <td>747</td>\n",
       "      <td>799-50-7587</td>\n",
       "      <td>7</td>\n",
       "      <td>4</td>\n",
       "      <td>13728</td>\n",
       "      <td>54461</td>\n",
       "      <td>2003.0</td>\n",
       "      <td>113</td>\n",
       "      <td>0</td>\n",
       "      <td>0.079524</td>\n",
       "      <td>0.013605</td>\n",
       "      <td>0.906871</td>\n",
       "      <td>106.0</td>\n",
       "      <td>5.0</td>\n",
       "      <td>2.0</td>\n",
       "      <td>3</td>\n",
       "    </tr>\n",
       "    <tr>\n",
       "      <td>4</td>\n",
       "      <td>e7e43cfc-4909-4248-a03b-153a9aa1e6ea</td>\n",
       "      <td>1543</td>\n",
       "      <td>255-16-4268</td>\n",
       "      <td>16</td>\n",
       "      <td>6</td>\n",
       "      <td>27291</td>\n",
       "      <td>147499</td>\n",
       "      <td>1998.0</td>\n",
       "      <td>300</td>\n",
       "      <td>0</td>\n",
       "      <td>0.044309</td>\n",
       "      <td>0.049964</td>\n",
       "      <td>0.905727</td>\n",
       "      <td>274.0</td>\n",
       "      <td>14.0</td>\n",
       "      <td>12.0</td>\n",
       "      <td>10</td>\n",
       "    </tr>\n",
       "    <tr>\n",
       "      <td>...</td>\n",
       "      <td>...</td>\n",
       "      <td>...</td>\n",
       "      <td>...</td>\n",
       "      <td>...</td>\n",
       "      <td>...</td>\n",
       "      <td>...</td>\n",
       "      <td>...</td>\n",
       "      <td>...</td>\n",
       "      <td>...</td>\n",
       "      <td>...</td>\n",
       "      <td>...</td>\n",
       "      <td>...</td>\n",
       "      <td>...</td>\n",
       "      <td>...</td>\n",
       "      <td>...</td>\n",
       "      <td>...</td>\n",
       "      <td>...</td>\n",
       "    </tr>\n",
       "    <tr>\n",
       "      <td>7993</td>\n",
       "      <td>4a274857-371b-4af1-b617-9ae8af8097f1</td>\n",
       "      <td>1038</td>\n",
       "      <td>600-57-6147</td>\n",
       "      <td>10</td>\n",
       "      <td>3</td>\n",
       "      <td>13951</td>\n",
       "      <td>110905</td>\n",
       "      <td>2002.0</td>\n",
       "      <td>239</td>\n",
       "      <td>0</td>\n",
       "      <td>0.044223</td>\n",
       "      <td>0.062902</td>\n",
       "      <td>0.892874</td>\n",
       "      <td>207.0</td>\n",
       "      <td>14.0</td>\n",
       "      <td>18.0</td>\n",
       "      <td>7</td>\n",
       "    </tr>\n",
       "    <tr>\n",
       "      <td>7994</td>\n",
       "      <td>e3d7ff7a-637a-44dc-b373-db072a1c1558</td>\n",
       "      <td>1051</td>\n",
       "      <td>061-07-4332</td>\n",
       "      <td>12</td>\n",
       "      <td>5</td>\n",
       "      <td>31128</td>\n",
       "      <td>139695</td>\n",
       "      <td>1998.0</td>\n",
       "      <td>254</td>\n",
       "      <td>314</td>\n",
       "      <td>0.089482</td>\n",
       "      <td>0.050214</td>\n",
       "      <td>0.860304</td>\n",
       "      <td>219.0</td>\n",
       "      <td>23.0</td>\n",
       "      <td>12.0</td>\n",
       "      <td>7</td>\n",
       "    </tr>\n",
       "    <tr>\n",
       "      <td>7995</td>\n",
       "      <td>49fcdc33-bb5b-4074-98a2-71168d2643b0</td>\n",
       "      <td>1400</td>\n",
       "      <td>790-39-8644</td>\n",
       "      <td>16</td>\n",
       "      <td>10</td>\n",
       "      <td>55478</td>\n",
       "      <td>162412</td>\n",
       "      <td>1999.0</td>\n",
       "      <td>311</td>\n",
       "      <td>843</td>\n",
       "      <td>0.039898</td>\n",
       "      <td>0.032977</td>\n",
       "      <td>0.927126</td>\n",
       "      <td>284.0</td>\n",
       "      <td>16.0</td>\n",
       "      <td>11.0</td>\n",
       "      <td>6</td>\n",
       "    </tr>\n",
       "    <tr>\n",
       "      <td>7996</td>\n",
       "      <td>19431b22-d2fe-4f82-a1c7-bf187cbc5ae9</td>\n",
       "      <td>1576</td>\n",
       "      <td>640-04-3480</td>\n",
       "      <td>15</td>\n",
       "      <td>9</td>\n",
       "      <td>58416</td>\n",
       "      <td>155874</td>\n",
       "      <td>1998.0</td>\n",
       "      <td>328</td>\n",
       "      <td>0</td>\n",
       "      <td>0.049694</td>\n",
       "      <td>0.034290</td>\n",
       "      <td>0.916016</td>\n",
       "      <td>296.0</td>\n",
       "      <td>18.0</td>\n",
       "      <td>14.0</td>\n",
       "      <td>6</td>\n",
       "    </tr>\n",
       "    <tr>\n",
       "      <td>7997</td>\n",
       "      <td>5234fd24-0d35-4bec-9df8-fa500cf2125f</td>\n",
       "      <td>479</td>\n",
       "      <td>305-67-7791</td>\n",
       "      <td>7</td>\n",
       "      <td>3</td>\n",
       "      <td>36515</td>\n",
       "      <td>82891</td>\n",
       "      <td>2000.0</td>\n",
       "      <td>131</td>\n",
       "      <td>504</td>\n",
       "      <td>0.061371</td>\n",
       "      <td>0.085829</td>\n",
       "      <td>0.852801</td>\n",
       "      <td>115.0</td>\n",
       "      <td>7.0</td>\n",
       "      <td>9.0</td>\n",
       "      <td>2</td>\n",
       "    </tr>\n",
       "  </tbody>\n",
       "</table>\n",
       "<p>7998 rows × 17 columns</p>\n",
       "</div>"
      ],
      "text/plain": [
       "                                        id  credit_score          ssn  \\\n",
       "0     44890d77-94da-49a5-8eef-0bdcf7f65979           373  834-53-4673   \n",
       "1     9169f2ac-fe14-42bd-8241-d241f1feef21          1171  415-47-4090   \n",
       "2     406c1f50-b4a2-408c-867c-999eab97cfb7          1743  307-48-7978   \n",
       "3     fbbfd912-cd67-4f18-b961-fad31c6261da           747  799-50-7587   \n",
       "4     e7e43cfc-4909-4248-a03b-153a9aa1e6ea          1543  255-16-4268   \n",
       "...                                    ...           ...          ...   \n",
       "7993  4a274857-371b-4af1-b617-9ae8af8097f1          1038  600-57-6147   \n",
       "7994  e3d7ff7a-637a-44dc-b373-db072a1c1558          1051  061-07-4332   \n",
       "7995  49fcdc33-bb5b-4074-98a2-71168d2643b0          1400  790-39-8644   \n",
       "7996  19431b22-d2fe-4f82-a1c7-bf187cbc5ae9          1576  640-04-3480   \n",
       "7997  5234fd24-0d35-4bec-9df8-fa500cf2125f           479  305-67-7791   \n",
       "\n",
       "      n_loans  n_active_loans  balance  total_borrowed  borrower_since  \\\n",
       "0           6               2    30213           75924          2003.0   \n",
       "1          15               5    23936          112449          1998.0   \n",
       "2          18               8    76732          220977          2000.0   \n",
       "3           7               4    13728           54461          2003.0   \n",
       "4          16               6    27291          147499          1998.0   \n",
       "...       ...             ...      ...             ...             ...   \n",
       "7993       10               3    13951          110905          2002.0   \n",
       "7994       12               5    31128          139695          1998.0   \n",
       "7995       16              10    55478          162412          1999.0   \n",
       "7996       15               9    58416          155874          1998.0   \n",
       "7997        7               3    36515           82891          2000.0   \n",
       "\n",
       "      total_months_loans  overdue  prop_30_late  prop_60_late  prop_on_time  \\\n",
       "0                    104      353      0.090694      0.053657      0.855648   \n",
       "1                    362        0      0.044931      0.067686      0.887383   \n",
       "2                    397        0      0.039103      0.041707      0.919190   \n",
       "3                    113        0      0.079524      0.013605      0.906871   \n",
       "4                    300        0      0.044309      0.049964      0.905727   \n",
       "...                  ...      ...           ...           ...           ...   \n",
       "7993                 239        0      0.044223      0.062902      0.892874   \n",
       "7994                 254      314      0.089482      0.050214      0.860304   \n",
       "7995                 311      843      0.039898      0.032977      0.927126   \n",
       "7996                 328        0      0.049694      0.034290      0.916016   \n",
       "7997                 131      504      0.061371      0.085829      0.852801   \n",
       "\n",
       "      n_on_time  n_30_late  n_60_late  total_paid_loans  \n",
       "0          88.0       11.0        5.0                 2  \n",
       "1         324.0       15.0       23.0                 9  \n",
       "2         362.0       18.0       17.0                 8  \n",
       "3         106.0        5.0        2.0                 3  \n",
       "4         274.0       14.0       12.0                10  \n",
       "...         ...        ...        ...               ...  \n",
       "7993      207.0       14.0       18.0                 7  \n",
       "7994      219.0       23.0       12.0                 7  \n",
       "7995      284.0       16.0       11.0                 6  \n",
       "7996      296.0       18.0       14.0                 6  \n",
       "7997      115.0        7.0        9.0                 2  \n",
       "\n",
       "[7998 rows x 17 columns]"
      ]
     },
     "execution_count": 5,
     "metadata": {},
     "output_type": "execute_result"
    }
   ],
   "source": [
    "model_data.rename(columns={\"30 DAYS LATE\": \"prop_30_late\", \"60 DAYS LATE OR MORE\": \"prop_60_late\",\n",
    "                           \"ON TIME\": \"prop_on_time\", \"active\": \"n_active_loans\", \n",
    "                           \"high_credit\":\"total_borrowed\", \"status_0\": \"total_paid_loans\",\n",
    "                          \"last_activity\":\"borrower_since\", \"n_months\": \"total_months_loans\"}, inplace=True)\n",
    "model_data"
   ]
  },
  {
   "cell_type": "code",
   "execution_count": 6,
   "metadata": {},
   "outputs": [
    {
     "name": "stdout",
     "output_type": "stream",
     "text": [
      "The mean credit score in the training set is: 1028.6737934483622\n",
      "With a standard deviation of: 353.5710690456801\n"
     ]
    }
   ],
   "source": [
    "X = model_data.iloc[:,3:] # features we're using to predict credit scores\n",
    "Y = model_data.iloc[:,1] # credit scores\n",
    "\n",
    "print(\"The mean credit score in the training set is:\", np.mean(Y))\n",
    "print(\"With a standard deviation of:\", np.std(Y))"
   ]
  },
  {
   "cell_type": "code",
   "execution_count": 7,
   "metadata": {
    "scrolled": true
   },
   "outputs": [
    {
     "data": {
      "text/plain": [
       "Text(0.5, 1.0, 'Distribution of Credit Scores')"
      ]
     },
     "execution_count": 7,
     "metadata": {},
     "output_type": "execute_result"
    },
    {
     "data": {
      "image/png": "[encoded data removed]",
      "text/plain": [
       "<Figure size 432x288 with 1 Axes>"
      ]
     },
     "metadata": {
      "needs_background": "light"
     },
     "output_type": "display_data"
    }
   ],
   "source": [
    "sns.distplot(Y, bins = 16)\n",
    "plt.title(\"Distribution of Credit Scores\")"
   ]
  },
  {
   "cell_type": "markdown",
   "metadata": {},
   "source": [
    "The credit scores looks normally distributed and centered around 1000, with a standard deviation of about 350. This means we don't have to transform the credit scores to be normally distributed (ex. box-cox) and we now have a sense of how good/bad our prediction errors will be."
   ]
  },
  {
   "cell_type": "code",
   "execution_count": 8,
   "metadata": {},
   "outputs": [],
   "source": [
    "X_train, X_test, Y_train, Y_test = train_test_split(X, Y, test_size=0.2, random_state=100)\n",
    "\n",
    "## a function to compute the rmse\n",
    "def compute_rmse(predictions, yvalues):\n",
    "    return np.sqrt(sum((np.array(predictions)-np.array(yvalues))**2)/len(yvalues))"
   ]
  },
  {
   "cell_type": "code",
   "execution_count": 9,
   "metadata": {},
   "outputs": [],
   "source": [
    "mod = sm.OLS(Y_train, X_train)\n",
    "OLS_model = mod.fit()\n",
    "\n",
    "test_pred = OLS_model.predict(X_test)"
   ]
  },
  {
   "cell_type": "code",
   "execution_count": 10,
   "metadata": {},
   "outputs": [
    {
     "data": {
      "text/plain": [
       "104.41047687274796"
      ]
     },
     "execution_count": 10,
     "metadata": {},
     "output_type": "execute_result"
    }
   ],
   "source": [
    "compute_rmse(test_pred, Y_test)"
   ]
  },
  {
   "cell_type": "code",
   "execution_count": 11,
   "metadata": {
    "scrolled": true
   },
   "outputs": [
    {
     "name": "stdout",
     "output_type": "stream",
     "text": [
      "The optimal choice of hyperparameters is: {'n_estimators': 270}\n"
     ]
    }
   ],
   "source": [
    "## initialize the model and parameter space\n",
    "\n",
    "rf_model = RandomForestRegressor(random_state = 5, max_features = 'sqrt')\n",
    "parameters = {'n_estimators': np.arange(30, 301, 30)}\n",
    "\n",
    "np.random.seed(seed=1000)\n",
    "rf_gridcv = GridSearchCV(estimator = rf_model, param_grid = parameters, cv = 5, scoring = 'neg_mean_squared_error')\n",
    "rf_gridcv.fit(X_train, Y_train)\n",
    "print(\"The optimal choice of hyperparameters is:\", rf_gridcv.best_params_)"
   ]
  },
  {
   "cell_type": "code",
   "execution_count": 12,
   "metadata": {},
   "outputs": [
    {
     "data": {
      "text/plain": [
       "123.13963658141206"
      ]
     },
     "execution_count": 12,
     "metadata": {},
     "output_type": "execute_result"
    }
   ],
   "source": [
    "mod = RandomForestRegressor(n_estimators = 270)\n",
    "mod.fit(X_train, Y_train)\n",
    "rf_preds = mod.predict(X_test)\n",
    "compute_rmse(rf_preds, Y_test)"
   ]
  },
  {
   "cell_type": "code",
   "execution_count": 13,
   "metadata": {},
   "outputs": [],
   "source": [
    "## get a sense of feature importance based on random forest\n",
    "importances = mod.feature_importances_\n",
    "most_important_idx = importances.argsort()[-10:]\n",
    "features = X_train.columns"
   ]
  },
  {
   "cell_type": "code",
   "execution_count": 14,
   "metadata": {
    "scrolled": true
   },
   "outputs": [
    {
     "data": {
      "image/png": "[encoded data removed]",
      "text/plain": [
       "<Figure size 432x288 with 1 Axes>"
      ]
     },
     "metadata": {
      "needs_background": "light"
     },
     "output_type": "display_data"
    }
   ],
   "source": [
    "plt.title('Feature Importances (Random Forest)')\n",
    "plt.barh(range(len(most_important_idx)), importances[most_important_idx], color='lightsteelblue', align='center')\n",
    "plt.yticks(range(len(most_important_idx)), [features[i] for i in most_important_idx])\n",
    "plt.xlabel('Relative Importance')\n",
    "plt.show()"
   ]
  },
  {
   "cell_type": "markdown",
   "metadata": {},
   "source": [
    "### Results\n",
    "\n",
    "The OLS model yielded an RMSE of about 104 while the random forest yielded an RMSE of about 123. Given the scale of the distribution of credit scores ($\\mu \\approx 1000$, $\\sigma \\approx 350$), the initial models performed moderately well, though there is certainly much room for improvement. \n",
    "\n",
    "From the random forest, we can see that the most important features for determining credit score are the total amount of money borrowed across all loans and the amount (currently) overdue. Other important features include the total number of loans paid off, the number of active loans, and the current balance of those loans. So, if each person has $1,000 to improve their credit score, they should use it to pay off some of the overdue balance, which affects two of the top 5 most important features (i.e. overdue, balance)."
   ]
  },
  {
   "cell_type": "markdown",
   "metadata": {},
   "source": [
    "### Predicting Scores for Validation Data"
   ]
  },
  {
   "cell_type": "markdown",
   "metadata": {},
   "source": [
    "I will write another function that parses the xml files from the validation set. I could have added another input to the function (e.g. includes_scores), which would allow me to just define one parser function, but I didn't think it was computationally efficient to have an if statement at the beginning of the function code, since I'm calling this function thousands of times. "
   ]
  },
  {
   "cell_type": "code",
   "execution_count": 15,
   "metadata": {},
   "outputs": [],
   "source": [
    "## get a list of all the filesnames in validation set\n",
    "filenames_validation = [name for name in os.listdir(\"./validation\")]\n",
    "\n",
    "## function that parses a single xml file\n",
    "def parse_report_validation(filename):\n",
    "    \n",
    "    tree = ET.parse(\"./validation/\" + filename)\n",
    "    root = tree.getroot()\n",
    "    \n",
    "    ## extract id, ssn, and credit score\n",
    "    id_num = root[0].text\n",
    "    ssn = root[2].text\n",
    "    credit_score = root[4].text\n",
    "    \n",
    "    ## initialize dataframe - each row in this df will represent one loan \n",
    "    tmp = pd.DataFrame()\n",
    "    \n",
    "    ## loop over the loans and save the extracted information\n",
    "    for node in tree.iter('tradeline'): # each node corresponds to a loan\n",
    "\n",
    "        i = 0\n",
    "        info = {}\n",
    "        for elem in node.iter(): # each element corresponds to a piece of info about a given loan\n",
    "\n",
    "            if not elem.tag==node.tag and elem.tag not in [\"payment\", \"payments\", \"month\"]:\n",
    "                if elem.tag == \"status\":\n",
    "                    info.update({\"{}_{}\".format(elem.tag, i) : elem.text})\n",
    "                    i += 1\n",
    "                else:\n",
    "                    info.update( {\"{}\".format(elem.tag) : elem.text})\n",
    "            info.update({\"n_months\": i-1})\n",
    "        df = pd.DataFrame(info, index=[0])\n",
    "\n",
    "        ## if a loan is currently late, there's an extra tag called \"overdue\"\n",
    "        if 'overdue' not in df.columns:\n",
    "            df[\"overdue\"] = 0\n",
    "            cols = df.columns.tolist()\n",
    "            cols = cols[-1:] + cols[:-1]\n",
    "            df = df[cols]\n",
    "        \n",
    "        \n",
    "        ## starting from column index 8, each column is whether or not payment was made on time for a given month\n",
    "        ## the code below joins the first 8 columns for a loan with the proportions of on time and late payments \n",
    "        summary = df.iloc[:,:8].join(pd.DataFrame(df.iloc[0,8:].value_counts(normalize=True)).T)\n",
    "        \n",
    "        ## if no payments were made on time/30 days late/60+ days late, then impute the respective column with 0\n",
    "        if '30 DAYS LATE' not in summary.columns:\n",
    "            summary[\"30 DAYS LATE\"] = 0\n",
    "        if '60 DAYS LATE OR MORE' not in summary.columns:\n",
    "            summary[\"60 DAYS LATE OR MORE\"] = 0\n",
    "        if 'ON TIME' not in summary.columns:\n",
    "            summary[\"ON TIME\"] = 0      \n",
    "        \n",
    "        \n",
    "        \n",
    "        tmp = tmp.append(summary, ignore_index=True)\n",
    "    \n",
    "    ## create new features\n",
    "    \n",
    "    tmp[\"n_on_time\"] = tmp[\"ON TIME\"] * tmp[\"n_months\"] # number of on time payments\n",
    "    tmp[\"n_30_late\"] = tmp[\"30 DAYS LATE\"] * tmp[\"n_months\"]\n",
    "    tmp[\"n_60_late\"] = tmp[\"60 DAYS LATE OR MORE\"] * tmp[\"n_months\"]\n",
    "    tmp[\"id\"] = id_num\n",
    "    tmp[\"ssn\"] = ssn\n",
    "    tmp[\"credit_score\"] = credit_score\n",
    "    tmp[\"n_loans\"] = len(tmp)\n",
    "    \n",
    "    tmp = tmp.fillna(0)\n",
    "    \n",
    "    ## convert columns to from text to numeric (if applicable)\n",
    "    tmp[\"balance\"] = tmp[\"balance\"].astype(int)\n",
    "    tmp[\"high_credit\"] = tmp[\"high_credit\"].astype(int)\n",
    "    tmp[\"last_activity\"] = tmp[\"last_activity\"].astype(int)\n",
    "    tmp[\"overdue\"] = tmp[\"overdue\"].astype(int)\n",
    "    tmp[\"last_activity\"] = tmp[\"last_activity\"].astype(int) - round(tmp[\"n_months\"]/12) # proxy for \"borrower since\"\n",
    "        \n",
    "    aggregated = tmp.groupby('id').agg({\n",
    "\n",
    "        'ssn': np.min,\n",
    "        'n_loans': np.mean,\n",
    "        'active': lambda x: np.sum(x == 'True'),\n",
    "        'balance': np.sum,\n",
    "        'high_credit': np.sum,\n",
    "        'last_activity': np.min,\n",
    "        'n_months': np.sum,\n",
    "        'overdue': np.sum,\n",
    "        '30 DAYS LATE': np.mean,\n",
    "        '60 DAYS LATE OR MORE': np.mean,\n",
    "        'ON TIME': np.mean,\n",
    "        'n_on_time': np.sum,\n",
    "        'n_30_late': np.sum,\n",
    "        'n_60_late': np.sum,\n",
    "        'status_0': lambda x: np.sum(x == 'PAID')\n",
    "        \n",
    "        })\n",
    "    \n",
    "    return aggregated"
   ]
  },
  {
   "cell_type": "code",
   "execution_count": 17,
   "metadata": {
    "scrolled": true
   },
   "outputs": [],
   "source": [
    "## parse every xml in training set and save the aggregated data as a df\n",
    "validation_data = pd.DataFrame()\n",
    "for filename in filenames_validation:\n",
    "    aggregated_df = parse_report_validation(filename)\n",
    "    validation_data = validation_data.append(aggregated_df)\n",
    "validation_data.reset_index(inplace=True)    "
   ]
  },
  {
   "cell_type": "code",
   "execution_count": 18,
   "metadata": {},
   "outputs": [],
   "source": [
    "## split up the id/ssn and the features\n",
    "submission = validation_data.iloc[:,:2]\n",
    "model_dat = validation_data.iloc[:,2:]"
   ]
  },
  {
   "cell_type": "code",
   "execution_count": 19,
   "metadata": {},
   "outputs": [],
   "source": [
    "predictions = mod.predict(model_dat)\n",
    "submission[\"credit_score_pred\"] = predictions\n",
    "submission.to_csv(r'./predictions.csv')"
   ]
  }
 ],
 "metadata": {
  "kernelspec": {
   "display_name": "Python 3",
   "language": "python",
   "name": "python3"
  },
  "language_info": {
   "codemirror_mode": {
    "name": "ipython",
    "version": 3
   },
   "file_extension": ".py",
   "mimetype": "text/x-python",
   "name": "python",
   "nbconvert_exporter": "python",
   "pygments_lexer": "ipython3",
   "version": "3.7.4"
  }
 },
 "nbformat": 4,
 "nbformat_minor": 2
}
